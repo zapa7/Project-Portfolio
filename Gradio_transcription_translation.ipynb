{
  "nbformat": 4,
  "nbformat_minor": 0,
  "metadata": {
    "colab": {
      "provenance": [],
      "authorship_tag": "ABX9TyPSb1oPN/VrIOf+MDFGdRyP",
      "include_colab_link": true
    },
    "kernelspec": {
      "name": "python3",
      "display_name": "Python 3"
    },
    "language_info": {
      "name": "python"
    }
  },
  "cells": [
    {
      "cell_type": "markdown",
      "metadata": {
        "id": "view-in-github",
        "colab_type": "text"
      },
      "source": [
        "<a href=\"https://colab.research.google.com/github/zapa7/Project-Portfolio/blob/main/Gradio_transcription_translation.ipynb\" target=\"_parent\"><img src=\"https://colab.research.google.com/assets/colab-badge.svg\" alt=\"Open In Colab\"/></a>"
      ]
    },
    {
      "cell_type": "code",
      "execution_count": null,
      "metadata": {
        "id": "TM1hzKLTjTot"
      },
      "outputs": [],
      "source": [
        "!pip install gradio"
      ]
    },
    {
      "cell_type": "code",
      "source": [
        "import gradio as gr"
      ],
      "metadata": {
        "id": "rINvNgO-jrmN"
      },
      "execution_count": 2,
      "outputs": []
    },
    {
      "cell_type": "code",
      "source": [
        " def find_complimentary_dna(dna_to_compliemnt):\n",
        "   _complement_seq = ''\n",
        "\n",
        "   for pos in range(0,len(dna_to_compliemnt)):\n",
        "     _last_char = dna_to_compliemnt[len(dna_to_compliemnt)-pos-1]\n",
        "\n",
        "     if _last_char == 'A':\n",
        "       _complement_seq = _complement_seq + 'A'\n",
        "     elif _last_char == 'T':\n",
        "       _complement_seq = _complement_seq + 'U'\n",
        "     elif _last_char == 'G':\n",
        "       _complement_seq = _complement_seq + 'G'\n",
        "     elif _last_char == 'C':\n",
        "       _complement_seq = _complement_seq + 'C'\n",
        "  \n",
        "   return _complement_seq\n",
        "\n",
        "def get_protein_from_DNA(DNA):\n",
        "  reading_frames =transcribe(DNA)\n",
        "  orf_list = []\n",
        "\n",
        "  for i in range(len(reading_frames)):\n",
        "      mRNA = reading_frames[i]\n",
        "      one_letter=''\n",
        "      found_start = False\n",
        "      for codon in mRNA:\n",
        "          if codon =='AUG' and not found_start:\n",
        "            one_letter +=  '<'\n",
        "            found_start = True\n",
        "          if codon =='UAA' or codon=='UGA'or codon =='UAG':\n",
        "            if found_start:\n",
        "              one_letter +=  '>'\n",
        "              found_start = False\n",
        "            continue\n",
        "          one_letter +=  AA_mapping[translate[codon]]\n",
        "      if one_letter.find('M') != -1:\n",
        "        one_letter = '*' + one_letter + '>'\n",
        "      orf_list.append(one_letter)\n",
        "\n",
        "  r = \" * means the ORF sequence exists and highlighted in as <>; \\n5'to 3' Frame 1:\"+ orf_list[0] +\"\\n5'to 3' Frame 2:\" + orf_list[1] + \"\\n5'to 3' Frame 3:\" + orf_list[2] + \"\\n3'to 5' Frame 1:\" + orf_list[3] + \"\\n3'to 5' Frame 2:\" + orf_list[4] + \"\\n3'to 5' Frame 3:\"+orf_list[5] \n",
        "  return DNA, find_complimentary_dna(DNA), r"
      ],
      "metadata": {
        "id": "ooyX_hSzjZ0E"
      },
      "execution_count": 3,
      "outputs": []
    },
    {
      "cell_type": "code",
      "source": [
        "DNA = 'GGTCAGAAAAAGCCCTCTCCATGTCTACTCACGATACATCCCTGAAAACCACTGAGGAAGTGGCTTTTCAGATCATCTTGCTTTGCCAGTTTGGGGTTGGGACTTTTGCCAATGTATTTCTCTTTGTCTATAATTTCTCTCCAATCTCGACTGGTTCTAAACAGAGGCCCAGACAAGTGATTTTAAGACACATGGCTGTGGCCAATGCCTTAACTCTCTTCCTCACTATATTTCCAAACAACATGATGACTTTTGCTCCAATTATTCCTCAAACTGACCTCAAATGTAAATTAGAATTCTTCACTCGCCTCGTGGCAAGAAGCACAAACTTGTGTTCAACTTGTGTTCTGAGTATCCATCAGTTTGTCACACTTGTTCCTGTTAATTCAGGTAAAGGAATACTCAGAGCAAGTGTCACAAACATGGCAAGTTATTCTTGTTACAGTTGTTGGTTCTTCAGTGTCTTAAATAACATCTACATTCCAATTAAGGTCACTGGTCCACAGTTAACAGACAATAACAATAACTCTAAAAGCAAGTTGTTCTGTTCCACTTCTGATTTCAGTGTAGGCATTGTCTTCTTGAGGTTTGCCCATGATGCCACATTCATGAGCATCATGGTCTGGACCAGTGTCTCCATGGTACTTCTCCTCCATAGACATTGTCAGAGAATGCAGTACATATTCACTCTCAATCAGGACCCCAGGGGCCAAGCAGAGACCACAGCAACCCATACTATCCTGATGCTGGTAGTCACATTTGTTGGCTTTTATCTTCTAAGTCTTATTTGTATCATCTTTTACACCTATTTTATATATTCTCATCATTCCCTGAGGCATTGCAATGACATTTTGGTTTCGGGTTTCCCTACAATTTCTCCTTTACTGTTGACCTTCAGAGACCCTAAGGGTCCTTGTTCTGTGTTCTTCAACTGTTGAAAGCCAGAGTCACTAAAAATGCCAAACACAGAAGACAGCTTTGCTAATACCATTAAATACTTTATTCCATAAATATGTTTTTAAAAGCTTGTATGAACAAGGTATGGTGCTCACTGCTATACTTATAAAAGAGTAAGGTTATAATCACTTGTTGATATGAAAAGATTTCTGGTTGGAATCTGATTGAAACAGTGAGTTATTCACCACCCTCCATTCTCT'\n",
        "base_pairing = {'A':'U', 'U':'A', 'C':'G','G':'C'}\n",
        "def transcribe(seq): \n",
        "  RNA_seq = seq.replace('T', 'U')\n",
        "  ### Define location of start codon (AUG)\n",
        "  start_codon = RNA_seq.find('AUG')\n",
        "  codons = []\n",
        "\n",
        "  for i in range(start_codon, len(RNA_seq), 3): \n",
        "    codon = RNA_seq[i:i + 3]\n",
        "    if len(codon)==3:\n",
        "        codons.append(codon)\n",
        "  return codons\n",
        "\n",
        "####################################################################################### \n",
        "# define dictionary to translate three-letter mRNA to three-letter amino acid here \n",
        "#######################################################################################\n",
        "\n",
        "translate = { \n",
        "  'UUU':'Phe','UCU':'Ser','UAU':'Tyr','UGU':'Cys',\n",
        "  'UUC':'Phe','UCC':'Ser','UAC':'Tyr','UGC':'Cys',\n",
        "  'UUA':'Leu','UCA':'Ser','UAA':'Stop','UGA':'Stop',\n",
        "  'UUG':'Leu','UCG':'Ser','UAG':'Stop','UGG':'Trp',\n",
        "  'CUU':'Leu','CCU':'Pro','CAU':'His','CGU':'Arg',\n",
        "  'CUC':'Leu','CCC':'Pro','CAC':'His','CGC':'Arg',\n",
        "  'CUA':'Leu','CCA':'Pro','CAA':'Gln','CGA':'Arg',\n",
        "  'CUG':'Leu','CCG':'Pro','CAG':'Gln','CGG':'Arg',\n",
        "  'AUU':'Ile','ACU':'Thr','AAU':'Asn','AGU':'Ser',\n",
        "  'AUC':'Ile','ACC':'Thr','AAC':'Asn','AGC':'Ser',\n",
        "  'AUA':'Ile','ACA':'Thr','AAA':'Lys','AGA':'Arg',\n",
        "  'AUG':'Met','ACG':'Thr','AAG':'Lys','AGG':'Arg',\n",
        "  'GUU':'Val','GCU':'Ala','GAU':'Asp','GGU':'Gly',\n",
        "  'GUC':'Val','GCC':'Ala','GAC':'Asp','GGC':'Gly',\n",
        "  'GUA':'Val','GCA':'Ala','GAA':'Glu','GGA':'Gly',\n",
        "  'GUG':'Val','GCG':'Ala','GAG':'Glu','GGG':'Gly'\n",
        "}\n",
        "\n",
        "#######################################################################################\n",
        "# define dictionary to map three-letter amino acid to one-letter amino acid here\n",
        "#######################################################################################\n",
        "\n",
        "AA_mapping = {\n",
        "    'Ala':'A', 'Arg':'R','Asn':'N',\n",
        "    'Asp':'D', 'Cys':'C','Gln':'Q',\n",
        "    'Glu':'E', 'Gly':'G','His':'H',\n",
        "    'Ile':'I', 'Leu':'L','Lys':'K',\n",
        "    'Met':'M', 'Phe':'F','Pro':'P',\n",
        "    'Ser':'S', 'Thr':'T','Trp':'W',\n",
        "    'Tyr':'Y','Val':'V'\n",
        "}\n",
        "\n",
        "def transcribe(seq): \n",
        "  RNA_seq = seq.replace('T', 'U')\n",
        "  reading_frames = []\n",
        "  # forward strand\n",
        "\n",
        "  for pos in range(0,3):\n",
        "    codons = []\n",
        "    for i in range(pos, len(RNA_seq), 3): \n",
        "      codon = RNA_seq[i:i + 3]\n",
        "      if len(codon)==3:\n",
        "          codons.append(codon)\n",
        "    reading_frames.append(codons)\n",
        "\n",
        "  # # reverse strand\n",
        "  RNA_seq_rev = RNA_seq[::-1]\n",
        "  cDNA = ''\n",
        "  for i in range(0, len(RNA_seq_rev)):\n",
        "    cDNA += base_pairing[RNA_seq_rev[i]]\n",
        "\n",
        "  for pos in range(0,3):\n",
        "    codons = []\n",
        "    for i in range(pos, len(cDNA), 3): \n",
        "      codon = cDNA[i:i + 3]\n",
        "      if len(codon)==3:\n",
        "          codons.append(codon)\n",
        "    reading_frames.append(codons)\n",
        "\n",
        "  return reading_frames"
      ],
      "metadata": {
        "id": "CLzVkGHakNp8"
      },
      "execution_count": 5,
      "outputs": []
    },
    {
      "cell_type": "code",
      "source": [
        "input1 = gr.inputs.Textbox(label = 'DNA sequence')\n",
        "output1 = gr.outputs.Textbox(label = 'Primary Sequence')\n",
        "output2 = gr.outputs.Textbox(label = 'Complimentary Sequence')\n",
        "output3 = gr.outputs.Textbox(label = 'Open Reading Frames')\n",
        "\n",
        "interface = gr.Interface(fn=get_protein_from_DNA,\n",
        "                         inputs=input1,\n",
        "                         outputs=[output1,output2,output3],\n",
        "                         title=\"Web Application for Transcription/Translation\", \n",
        "                         description= \"A quick tool for translating a DNA sequence into a protein sequence\",\n",
        "                         theme = 'huggingface',\n",
        "                         layout = 'vertical'\n",
        "                         )\n",
        "interface.launch()"
      ],
      "metadata": {
        "colab": {
          "base_uri": "https://localhost:8080/",
          "height": 824
        },
        "id": "NfXGhumMjlrC",
        "outputId": "56fbc53c-bc60-47dd-b1df-d6fa51a6e309"
      },
      "execution_count": 7,
      "outputs": [
        {
          "output_type": "stream",
          "name": "stderr",
          "text": [
            "/usr/local/lib/python3.10/dist-packages/gradio/inputs.py:27: UserWarning: Usage of gradio.inputs is deprecated, and will not be supported in the future, please import your component from gradio.components\n",
            "  warnings.warn(\n",
            "/usr/local/lib/python3.10/dist-packages/gradio/deprecation.py:40: UserWarning: `optional` parameter is deprecated, and it has no effect\n",
            "  warnings.warn(value)\n",
            "/usr/local/lib/python3.10/dist-packages/gradio/deprecation.py:40: UserWarning: `numeric` parameter is deprecated, and it has no effect\n",
            "  warnings.warn(value)\n",
            "/usr/local/lib/python3.10/dist-packages/gradio/outputs.py:22: UserWarning: Usage of gradio.outputs is deprecated, and will not be supported in the future, please import your components from gradio.components\n",
            "  warnings.warn(\n",
            "/usr/local/lib/python3.10/dist-packages/gradio/blocks.py:636: UserWarning: Cannot load huggingface. Caught Exception: The space huggingface does not exist\n",
            "  warnings.warn(f\"Cannot load {theme}. Caught Exception: {str(e)}\")\n",
            "/usr/local/lib/python3.10/dist-packages/gradio/deprecation.py:40: UserWarning: `layout` parameter is deprecated, and it has no effect\n",
            "  warnings.warn(value)\n"
          ]
        },
        {
          "output_type": "stream",
          "name": "stdout",
          "text": [
            "Colab notebook detected. To show errors in colab notebook, set debug=True in launch()\n",
            "Note: opening Chrome Inspector may crash demo inside Colab notebooks.\n",
            "\n",
            "To create a public link, set `share=True` in `launch()`.\n"
          ]
        },
        {
          "output_type": "display_data",
          "data": {
            "text/plain": [
              "<IPython.core.display.Javascript object>"
            ],
            "application/javascript": [
              "(async (port, path, width, height, cache, element) => {\n",
              "                        if (!google.colab.kernel.accessAllowed && !cache) {\n",
              "                            return;\n",
              "                        }\n",
              "                        element.appendChild(document.createTextNode(''));\n",
              "                        const url = await google.colab.kernel.proxyPort(port, {cache});\n",
              "\n",
              "                        const external_link = document.createElement('div');\n",
              "                        external_link.innerHTML = `\n",
              "                            <div style=\"font-family: monospace; margin-bottom: 0.5rem\">\n",
              "                                Running on <a href=${new URL(path, url).toString()} target=\"_blank\">\n",
              "                                    https://localhost:${port}${path}\n",
              "                                </a>\n",
              "                            </div>\n",
              "                        `;\n",
              "                        element.appendChild(external_link);\n",
              "\n",
              "                        const iframe = document.createElement('iframe');\n",
              "                        iframe.src = new URL(path, url).toString();\n",
              "                        iframe.height = height;\n",
              "                        iframe.allow = \"autoplay; camera; microphone; clipboard-read; clipboard-write;\"\n",
              "                        iframe.width = width;\n",
              "                        iframe.style.border = 0;\n",
              "                        element.appendChild(iframe);\n",
              "                    })(7862, \"/\", \"100%\", 500, false, window.element)"
            ]
          },
          "metadata": {}
        },
        {
          "output_type": "execute_result",
          "data": {
            "text/plain": []
          },
          "metadata": {},
          "execution_count": 7
        }
      ]
    }
  ]
}