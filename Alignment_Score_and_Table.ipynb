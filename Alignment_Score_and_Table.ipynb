{
  "nbformat": 4,
  "nbformat_minor": 0,
  "metadata": {
    "colab": {
      "provenance": [],
      "authorship_tag": "ABX9TyOY9NYwLichUaHg+VbkTx9b",
      "include_colab_link": true
    },
    "kernelspec": {
      "name": "python3",
      "display_name": "Python 3"
    },
    "language_info": {
      "name": "python"
    }
  },
  "cells": [
    {
      "cell_type": "markdown",
      "metadata": {
        "id": "view-in-github",
        "colab_type": "text"
      },
      "source": [
        "<a href=\"https://colab.research.google.com/github/zapa7/Project-Portfolio/blob/main/Alignment_Score_and_Table.ipynb\" target=\"_parent\"><img src=\"https://colab.research.google.com/assets/colab-badge.svg\" alt=\"Open In Colab\"/></a>"
      ]
    },
    {
      "cell_type": "code",
      "execution_count": 1,
      "metadata": {
        "id": "Rugv5fsbdGVm"
      },
      "outputs": [],
      "source": [
        "def alignment_score(sequence1, sequence2, match=1, mismatch=-1, gap=-1):\n",
        "  score = 0\n",
        "  if len(sequence1) != len(sequence2):\n",
        "    print('Error: Sequences are different lengths')\n",
        "    return\n",
        "  else:\n",
        "    for i in range(0,len(sequence1)):\n",
        "      if sequence1[i] == sequence2[i]:\n",
        "        score += match\n",
        "      elif sequence1[i] == '-' or sequence2[i] == '-':\n",
        "        score += gap \n",
        "      else: \n",
        "        score += mismatch\n",
        "    print(sequence1)\n",
        "    print(sequence2)\n",
        "    print('Score:', score)"
      ]
    },
    {
      "cell_type": "code",
      "source": [
        "alignment_score('AATATGATA', 'AAGTTCATA', match=2, mismatch=-2, gap=-2)"
      ],
      "metadata": {
        "colab": {
          "base_uri": "https://localhost:8080/"
        },
        "id": "ra27GtVtdM7q",
        "outputId": "0ec8240a-e23b-4f74-ecd8-7655dca77f00"
      },
      "execution_count": 2,
      "outputs": [
        {
          "output_type": "stream",
          "name": "stdout",
          "text": [
            "AATATGATA\n",
            "AAGTTCATA\n",
            "Score: 6\n"
          ]
        }
      ]
    },
    {
      "cell_type": "code",
      "source": [
        "alignment_score('A-TAT-ATA', 'AATTTC-TA', match=1, mismatch=-1, gap=-1)"
      ],
      "metadata": {
        "colab": {
          "base_uri": "https://localhost:8080/"
        },
        "id": "lCLH8to4dP5Q",
        "outputId": "63899075-d8e6-4c1c-dbcd-5ed63a6ac549"
      },
      "execution_count": 3,
      "outputs": [
        {
          "output_type": "stream",
          "name": "stdout",
          "text": [
            "A-TAT-ATA\n",
            "AATTTC-TA\n",
            "Score: 1\n"
          ]
        }
      ]
    },
    {
      "cell_type": "code",
      "source": [
        "def alignment_table1(seq1, seq2):\n",
        "  rows = []\n",
        "  for i in range(0,len(seq1)+1):\n",
        "    ## create new row\n",
        "    each = []\n",
        "    for j in range(0, len(seq2)+1):\n",
        "      each.append(0)\n",
        "    \n",
        "    # append new row\n",
        "    rows.append(each)\n",
        "\n",
        "    # Formatting the output\n",
        "  print('Sequence 1:', seq1, 'with length', len(seq1))\n",
        "  print('Sequence 2:', seq2, 'with length', len(seq2))\n",
        "  print('The initial table with dimension', len(seq1)+1, 'and', len(seq2)+1, 'for the sequence alignment is:')\n",
        "  count = 0\n",
        "  for each in rows:\n",
        "    print('Row'+str(count)+':', each)\n",
        "    count += 1\n",
        "\n",
        "  return rows\n",
        "# rows = alignment_table1('FKLASDJF','JASKLDDJF')\n",
        "# def print_table(rows):\n",
        "#   count = 0\n",
        "#   for each in rows:\n",
        "#     print('Row'+str(count)+':', each)\n",
        "#     count += 1\n",
        "# print_table(rows)"
      ],
      "metadata": {
        "id": "Y-cVsYY1diVV"
      },
      "execution_count": 5,
      "outputs": []
    },
    {
      "cell_type": "code",
      "source": [
        "alignment_table1('FKLASDJF','JASKLDDJF')"
      ],
      "metadata": {
        "colab": {
          "base_uri": "https://localhost:8080/"
        },
        "id": "HTRyMyczdmU1",
        "outputId": "eabd5f9b-c0d3-4258-fe75-a3f90bdc0651"
      },
      "execution_count": 6,
      "outputs": [
        {
          "output_type": "stream",
          "name": "stdout",
          "text": [
            "Sequence 1: FKLASDJF with length 8\n",
            "Sequence 2: JASKLDDJF with length 9\n",
            "The initial table with dimension 9 and 10 for the sequence alignment is:\n",
            "Row0: [0, 0, 0, 0, 0, 0, 0, 0, 0, 0]\n",
            "Row1: [0, 0, 0, 0, 0, 0, 0, 0, 0, 0]\n",
            "Row2: [0, 0, 0, 0, 0, 0, 0, 0, 0, 0]\n",
            "Row3: [0, 0, 0, 0, 0, 0, 0, 0, 0, 0]\n",
            "Row4: [0, 0, 0, 0, 0, 0, 0, 0, 0, 0]\n",
            "Row5: [0, 0, 0, 0, 0, 0, 0, 0, 0, 0]\n",
            "Row6: [0, 0, 0, 0, 0, 0, 0, 0, 0, 0]\n",
            "Row7: [0, 0, 0, 0, 0, 0, 0, 0, 0, 0]\n",
            "Row8: [0, 0, 0, 0, 0, 0, 0, 0, 0, 0]\n"
          ]
        },
        {
          "output_type": "execute_result",
          "data": {
            "text/plain": [
              "[[0, 0, 0, 0, 0, 0, 0, 0, 0, 0],\n",
              " [0, 0, 0, 0, 0, 0, 0, 0, 0, 0],\n",
              " [0, 0, 0, 0, 0, 0, 0, 0, 0, 0],\n",
              " [0, 0, 0, 0, 0, 0, 0, 0, 0, 0],\n",
              " [0, 0, 0, 0, 0, 0, 0, 0, 0, 0],\n",
              " [0, 0, 0, 0, 0, 0, 0, 0, 0, 0],\n",
              " [0, 0, 0, 0, 0, 0, 0, 0, 0, 0],\n",
              " [0, 0, 0, 0, 0, 0, 0, 0, 0, 0],\n",
              " [0, 0, 0, 0, 0, 0, 0, 0, 0, 0]]"
            ]
          },
          "metadata": {},
          "execution_count": 6
        }
      ]
    },
    {
      "cell_type": "code",
      "source": [
        "def alignment_table_updated(seq1, seq2):\n",
        "  count = 0\n",
        "  count_other = 0\n",
        "  updated_table = alignment_table1(seq1, seq2)\n",
        "  for i in range(0,len(updated_table[0])):\n",
        "    updated_table[0][i] -= count+i\n",
        "\n",
        "  for j in range(0, len(updated_table)):\n",
        "    updated_table[j][0] -= count_other+j\n",
        "  print(' ')\n",
        "  print('The updated table with dimension', len(seq1)+1, 'and', len(seq2)+1, 'for the sequence alignment is:')\n",
        "\n",
        "  for each in updated_table:\n",
        "      count_format = 0\n",
        "      count+=1\n",
        "      print('Row'+str(count)+':', each)"
      ],
      "metadata": {
        "id": "XUKkXmDFdUjM"
      },
      "execution_count": 7,
      "outputs": []
    },
    {
      "cell_type": "code",
      "source": [
        "alignment_table_updated('FKLASDJF','JASKLDDJF')"
      ],
      "metadata": {
        "colab": {
          "base_uri": "https://localhost:8080/"
        },
        "id": "7yIMXgR6dYRe",
        "outputId": "f0ee2969-03eb-4ff1-f452-3a40156e22ee"
      },
      "execution_count": 8,
      "outputs": [
        {
          "output_type": "stream",
          "name": "stdout",
          "text": [
            "Sequence 1: FKLASDJF with length 8\n",
            "Sequence 2: JASKLDDJF with length 9\n",
            "The initial table with dimension 9 and 10 for the sequence alignment is:\n",
            "Row0: [0, 0, 0, 0, 0, 0, 0, 0, 0, 0]\n",
            "Row1: [0, 0, 0, 0, 0, 0, 0, 0, 0, 0]\n",
            "Row2: [0, 0, 0, 0, 0, 0, 0, 0, 0, 0]\n",
            "Row3: [0, 0, 0, 0, 0, 0, 0, 0, 0, 0]\n",
            "Row4: [0, 0, 0, 0, 0, 0, 0, 0, 0, 0]\n",
            "Row5: [0, 0, 0, 0, 0, 0, 0, 0, 0, 0]\n",
            "Row6: [0, 0, 0, 0, 0, 0, 0, 0, 0, 0]\n",
            "Row7: [0, 0, 0, 0, 0, 0, 0, 0, 0, 0]\n",
            "Row8: [0, 0, 0, 0, 0, 0, 0, 0, 0, 0]\n",
            " \n",
            "The updated table with dimension 9 and 10 for the sequence alignment is:\n",
            "Row1: [0, -1, -2, -3, -4, -5, -6, -7, -8, -9]\n",
            "Row2: [-1, 0, 0, 0, 0, 0, 0, 0, 0, 0]\n",
            "Row3: [-2, 0, 0, 0, 0, 0, 0, 0, 0, 0]\n",
            "Row4: [-3, 0, 0, 0, 0, 0, 0, 0, 0, 0]\n",
            "Row5: [-4, 0, 0, 0, 0, 0, 0, 0, 0, 0]\n",
            "Row6: [-5, 0, 0, 0, 0, 0, 0, 0, 0, 0]\n",
            "Row7: [-6, 0, 0, 0, 0, 0, 0, 0, 0, 0]\n",
            "Row8: [-7, 0, 0, 0, 0, 0, 0, 0, 0, 0]\n",
            "Row9: [-8, 0, 0, 0, 0, 0, 0, 0, 0, 0]\n"
          ]
        }
      ]
    }
  ]
}