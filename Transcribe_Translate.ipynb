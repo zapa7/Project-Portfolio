{
  "nbformat": 4,
  "nbformat_minor": 0,
  "metadata": {
    "colab": {
      "provenance": [],
      "authorship_tag": "ABX9TyMrXYoBkyMW3e/+Sd2/kUvL"
    },
    "kernelspec": {
      "name": "python3",
      "display_name": "Python 3"
    },
    "language_info": {
      "name": "python"
    }
  },
  "cells": [
    {
      "cell_type": "code",
      "source": [
        "_dna = 'GGTCAGAAAAAGCCCTCTCCATGTCTACTCACGATACATCCCTGAAAACCACTGAGGAAGTGGCTTTTCAGATCATCTTGCTTTGCCAGTTTGGGGTTGGGACTTTTGCCAATGTATTTCTCTTTGTCTATAATTTCTCTCCAATCTCGACTGGTTCTAAACAGAGGCCCAGACAAGTGATTTTAAGACACATGGCTGTGGCCAATGCCTTAACTCTCTTCCTCACTATATTTCCAAACAACATGATGACTTTTGCTCCAATTATTCCTCAAACTGACCTCAAATGTAAATTAGAATTCTTCACTCGCCTCGTGGCAAGAAGCACAAACTTGTGTTCAACTTGTGTTCTGAGTATCCATCAGTTTGTCACACTTGTTCCTGTTAATTCAGGTAAAGGAATACTCAGAGCAAGTGTCACAAACATGGCAAGTTATTCTTGTTACAGTTGTTGGTTCTTCAGTGTCTTAAATAACATCTACATTCCAATTAAGGTCACTGGTCCACAGTTAACAGACAATAACAATAACTCTAAAAGCAAGTTGTTCTGTTCCACTTCTGATTTCAGTGTAGGCATTGTCTTCTTGAGGTTTGCCCATGATGCCACATTCATGAGCATCATGGTCTGGACCAGTGTCTCCATGGTACTTCTCCTCCATAGACATTGTCAGAGAATGCAGTACATATTCACTCTCAATCAGGACCCCAGGGGCCAAGCAGAGACCACAGCAACCCATACTATCCTGATGCTGGTAGTCACATTTGTTGGCTTTTATCTTCTAAGTCTTATTTGTATCATCTTTTACACCTATTTTATATATTCTCATCATTCCCTGAGGCATTGCAATGACATTTTGGTTTCGGGTTTCCCTACAATTTCTCCTTTACTGTTGACCTTCAGAGACCCTAAGGGTCCTTGTTCTGTGTTCTTCAACTGTTGAAAGCCAGAGTCACTAAAAATGCCAAACACAGAAGACAGCTTTGCTAATACCATTAAATACTTTATTCCATAAATATGTTTTTAAAAGCTTGTATGAACAAGGTATGGTGCTCACTGCTATACTTATAAAAGAGTAAGGTTATAATCACTTGTTGATATGAAAAGATTTCTGGTTGGAATCTGATTGAAACAGTGAGTTATTCACCACCCTCCATTCTCT'"
      ],
      "metadata": {
        "id": "9uFsS7IKXf-i"
      },
      "execution_count": 1,
      "outputs": []
    },
    {
      "cell_type": "code",
      "execution_count": 2,
      "metadata": {
        "colab": {
          "base_uri": "https://localhost:8080/"
        },
        "id": "0Q3RtAbAXZTw",
        "outputId": "b3b40cc6-cb4c-4dbb-fefc-9ea05e88b317"
      },
      "outputs": [
        {
          "output_type": "stream",
          "name": "stdout",
          "text": [
            "For primary sequence:\n",
            "['CCA', 'GUC', 'UUU', 'UUC', 'GGG', 'AGA', 'GGU', 'ACA', 'GAU', 'GAG', 'UGC', 'UAU', 'GUA', 'GGG', 'ACU', 'UUU', 'GGU', 'GAC', 'UCC', 'UUC', 'ACC', 'GAA', 'AAG', 'UCU', 'AGU', 'AGA', 'ACG', 'AAA', 'CGG', 'UCA', 'AAC', 'CCC', 'AAC', 'CCU', 'GAA', 'AAC', 'GGU', 'UAC', 'AUA', 'AAG', 'AGA', 'AAC', 'AGA', 'UAU', 'UAA', 'AGA', 'GAG', 'GUU', 'AGA', 'GCU', 'GAC', 'CAA', 'GAU', 'UUG', 'UCU', 'CCG', 'GGU', 'CUG', 'UUC', 'ACU', 'AAA', 'AUU', 'CUG', 'UGU', 'ACC', 'GAC', 'ACC', 'GGU', 'UAC', 'GGA', 'AUU', 'GAG', 'AGA', 'AGG', 'AGU', 'GAU', 'AUA', 'AAG', 'GUU', 'UGU', 'UGU', 'ACU', 'ACU', 'GAA', 'AAC', 'GAG', 'GUU', 'AAU', 'AAG', 'GAG', 'UUU', 'GAC', 'UGG', 'AGU', 'UUA', 'CAU', 'UUA', 'AUC', 'UUA', 'AGA', 'AGU', 'GAG', 'CGG', 'AGC', 'ACC', 'GUU', 'CUU', 'CGU', 'GUU', 'UGA', 'ACA', 'CAA', 'GUU', 'GAA', 'CAC', 'AAG', 'ACU', 'CAU', 'AGG', 'UAG', 'UCA', 'AAC', 'AGU', 'GUG', 'AAC', 'AAG', 'GAC', 'AAU', 'UAA', 'GUC', 'CAU', 'UUC', 'CUU', 'AUG', 'AGU', 'CUC', 'GUU', 'CAC', 'AGU', 'GUU', 'UGU', 'ACC', 'GUU', 'CAA', 'UAA', 'GAA', 'CAA', 'UGU', 'CAA', 'CAA', 'CCA', 'AGA', 'AGU', 'CAC', 'AGA', 'AUU', 'UAU', 'UGU', 'AGA', 'UGU', 'AAG', 'GUU', 'AAU', 'UCC', 'AGU', 'GAC', 'CAG', 'GUG', 'UCA', 'AUU', 'GUC', 'UGU', 'UAU', 'UGU', 'UAU', 'UGA', 'GAU', 'UUU', 'CGU', 'UCA', 'ACA', 'AGA', 'CAA', 'GGU', 'GAA', 'GAC', 'UAA', 'AGU', 'CAC', 'AUC', 'CGU', 'AAC', 'AGA', 'AGA', 'ACU', 'CCA', 'AAC', 'GGG', 'UAC', 'UAC', 'GGU', 'GUA', 'AGU', 'ACU', 'CGU', 'AGU', 'ACC', 'AGA', 'CCU', 'GGU', 'CAC', 'AGA', 'GGU', 'ACC', 'AUG', 'AAG', 'AGG', 'AGG', 'UAU', 'CUG', 'UAA', 'CAG', 'UCU', 'CUU', 'ACG', 'UCA', 'UGU', 'AUA', 'AGU', 'GAG', 'AGU', 'UAG', 'UCC', 'UGG', 'GGU', 'CCC', 'CGG', 'UUC', 'GUC', 'UCU', 'GGU', 'GUC', 'GUU', 'GGG', 'UAU', 'GAU', 'AGG', 'ACU', 'ACG', 'ACC', 'AUC', 'AGU', 'GUA', 'AAC', 'AAC', 'CGA', 'AAA', 'UAG', 'AAG', 'AUU', 'CAG', 'AAU', 'AAA', 'CAU', 'AGU', 'AGA', 'AAA', 'UGU', 'GGA', 'UAA', 'AAU', 'AUA', 'UAA', 'GAG', 'UAG', 'UAA', 'GGG', 'ACU', 'CCG', 'UAA', 'CGU', 'UAC', 'UGU', 'AAA', 'ACC', 'AAA', 'GCC', 'CAA', 'AGG', 'GAU', 'GUU', 'AAA', 'GAG', 'GAA', 'AUG', 'ACA', 'ACU', 'GGA', 'AGU', 'CUC', 'UGG', 'GAU', 'UCC', 'CAG', 'GAA', 'CAA', 'GAC', 'ACA', 'AGA', 'AGU', 'UGA', 'CAA', 'CUU', 'UCG', 'GUC', 'UCA', 'GUG', 'AUU', 'UUU', 'ACG', 'GUU', 'UGU', 'GUC', 'UUC', 'UGU', 'CGA', 'AAC', 'GAU', 'UAU', 'GGU', 'AAU', 'UUA', 'UGA', 'AAU', 'AAG', 'GUA', 'UUU', 'AUA', 'CAA', 'AAA', 'UUU', 'UCG', 'AAC', 'AUA', 'CUU', 'GUU', 'CCA', 'UAC', 'CAC', 'GAG', 'UGA', 'CGA', 'UAU', 'GAA', 'UAU', 'UUU', 'CUC', 'AUU', 'CCA', 'AUA', 'UUA', 'GUG', 'AAC', 'AAC', 'UAU', 'ACU', 'UUU', 'CUA', 'AAG', 'ACC', 'AAC', 'CUU', 'AGA', 'CUA', 'ACU', 'UUG', 'UCA', 'CUC', 'AAU', 'AAG', 'UGG', 'UGG', 'GAG', 'GUA', 'AGA']\n",
            "['CAG', 'UCU', 'UUU', 'UCG', 'GGA', 'GAG', 'GUA', 'CAG', 'AUG', 'AGU', 'GCU', 'AUG', 'UAG', 'GGA', 'CUU', 'UUG', 'GUG', 'ACU', 'CCU', 'UCA', 'CCG', 'AAA', 'AGU', 'CUA', 'GUA', 'GAA', 'CGA', 'AAC', 'GGU', 'CAA', 'ACC', 'CCA', 'ACC', 'CUG', 'AAA', 'ACG', 'GUU', 'ACA', 'UAA', 'AGA', 'GAA', 'ACA', 'GAU', 'AUU', 'AAA', 'GAG', 'AGG', 'UUA', 'GAG', 'CUG', 'ACC', 'AAG', 'AUU', 'UGU', 'CUC', 'CGG', 'GUC', 'UGU', 'UCA', 'CUA', 'AAA', 'UUC', 'UGU', 'GUA', 'CCG', 'ACA', 'CCG', 'GUU', 'ACG', 'GAA', 'UUG', 'AGA', 'GAA', 'GGA', 'GUG', 'AUA', 'UAA', 'AGG', 'UUU', 'GUU', 'GUA', 'CUA', 'CUG', 'AAA', 'ACG', 'AGG', 'UUA', 'AUA', 'AGG', 'AGU', 'UUG', 'ACU', 'GGA', 'GUU', 'UAC', 'AUU', 'UAA', 'UCU', 'UAA', 'GAA', 'GUG', 'AGC', 'GGA', 'GCA', 'CCG', 'UUC', 'UUC', 'GUG', 'UUU', 'GAA', 'CAC', 'AAG', 'UUG', 'AAC', 'ACA', 'AGA', 'CUC', 'AUA', 'GGU', 'AGU', 'CAA', 'ACA', 'GUG', 'UGA', 'ACA', 'AGG', 'ACA', 'AUU', 'AAG', 'UCC', 'AUU', 'UCC', 'UUA', 'UGA', 'GUC', 'UCG', 'UUC', 'ACA', 'GUG', 'UUU', 'GUA', 'CCG', 'UUC', 'AAU', 'AAG', 'AAC', 'AAU', 'GUC', 'AAC', 'AAC', 'CAA', 'GAA', 'GUC', 'ACA', 'GAA', 'UUU', 'AUU', 'GUA', 'GAU', 'GUA', 'AGG', 'UUA', 'AUU', 'CCA', 'GUG', 'ACC', 'AGG', 'UGU', 'CAA', 'UUG', 'UCU', 'GUU', 'AUU', 'GUU', 'AUU', 'GAG', 'AUU', 'UUC', 'GUU', 'CAA', 'CAA', 'GAC', 'AAG', 'GUG', 'AAG', 'ACU', 'AAA', 'GUC', 'ACA', 'UCC', 'GUA', 'ACA', 'GAA', 'GAA', 'CUC', 'CAA', 'ACG', 'GGU', 'ACU', 'ACG', 'GUG', 'UAA', 'GUA', 'CUC', 'GUA', 'GUA', 'CCA', 'GAC', 'CUG', 'GUC', 'ACA', 'GAG', 'GUA', 'CCA', 'UGA', 'AGA', 'GGA', 'GGU', 'AUC', 'UGU', 'AAC', 'AGU', 'CUC', 'UUA', 'CGU', 'CAU', 'GUA', 'UAA', 'GUG', 'AGA', 'GUU', 'AGU', 'CCU', 'GGG', 'GUC', 'CCC', 'GGU', 'UCG', 'UCU', 'CUG', 'GUG', 'UCG', 'UUG', 'GGU', 'AUG', 'AUA', 'GGA', 'CUA', 'CGA', 'CCA', 'UCA', 'GUG', 'UAA', 'ACA', 'ACC', 'GAA', 'AAU', 'AGA', 'AGA', 'UUC', 'AGA', 'AUA', 'AAC', 'AUA', 'GUA', 'GAA', 'AAU', 'GUG', 'GAU', 'AAA', 'AUA', 'UAU', 'AAG', 'AGU', 'AGU', 'AAG', 'GGA', 'CUC', 'CGU', 'AAC', 'GUU', 'ACU', 'GUA', 'AAA', 'CCA', 'AAG', 'CCC', 'AAA', 'GGG', 'AUG', 'UUA', 'AAG', 'AGG', 'AAA', 'UGA', 'CAA', 'CUG', 'GAA', 'GUC', 'UCU', 'GGG', 'AUU', 'CCC', 'AGG', 'AAC', 'AAG', 'ACA', 'CAA', 'GAA', 'GUU', 'GAC', 'AAC', 'UUU', 'CGG', 'UCU', 'CAG', 'UGA', 'UUU', 'UUA', 'CGG', 'UUU', 'GUG', 'UCU', 'UCU', 'GUC', 'GAA', 'ACG', 'AUU', 'AUG', 'GUA', 'AUU', 'UAU', 'GAA', 'AUA', 'AGG', 'UAU', 'UUA', 'UAC', 'AAA', 'AAU', 'UUU', 'CGA', 'ACA', 'UAC', 'UUG', 'UUC', 'CAU', 'ACC', 'ACG', 'AGU', 'GAC', 'GAU', 'AUG', 'AAU', 'AUU', 'UUC', 'UCA', 'UUC', 'CAA', 'UAU', 'UAG', 'UGA', 'ACA', 'ACU', 'AUA', 'CUU', 'UUC', 'UAA', 'AGA', 'CCA', 'ACC', 'UUA', 'GAC', 'UAA', 'CUU', 'UGU', 'CAC', 'UCA', 'AUA', 'AGU', 'GGU', 'GGG', 'AGG', 'UAA', 'GAG']\n",
            "['AGU', 'CUU', 'UUU', 'CGG', 'GAG', 'AGG', 'UAC', 'AGA', 'UGA', 'GUG', 'CUA', 'UGU', 'AGG', 'GAC', 'UUU', 'UGG', 'UGA', 'CUC', 'CUU', 'CAC', 'CGA', 'AAA', 'GUC', 'UAG', 'UAG', 'AAC', 'GAA', 'ACG', 'GUC', 'AAA', 'CCC', 'CAA', 'CCC', 'UGA', 'AAA', 'CGG', 'UUA', 'CAU', 'AAA', 'GAG', 'AAA', 'CAG', 'AUA', 'UUA', 'AAG', 'AGA', 'GGU', 'UAG', 'AGC', 'UGA', 'CCA', 'AGA', 'UUU', 'GUC', 'UCC', 'GGG', 'UCU', 'GUU', 'CAC', 'UAA', 'AAU', 'UCU', 'GUG', 'UAC', 'CGA', 'CAC', 'CGG', 'UUA', 'CGG', 'AAU', 'UGA', 'GAG', 'AAG', 'GAG', 'UGA', 'UAU', 'AAA', 'GGU', 'UUG', 'UUG', 'UAC', 'UAC', 'UGA', 'AAA', 'CGA', 'GGU', 'UAA', 'UAA', 'GGA', 'GUU', 'UGA', 'CUG', 'GAG', 'UUU', 'ACA', 'UUU', 'AAU', 'CUU', 'AAG', 'AAG', 'UGA', 'GCG', 'GAG', 'CAC', 'CGU', 'UCU', 'UCG', 'UGU', 'UUG', 'AAC', 'ACA', 'AGU', 'UGA', 'ACA', 'CAA', 'GAC', 'UCA', 'UAG', 'GUA', 'GUC', 'AAA', 'CAG', 'UGU', 'GAA', 'CAA', 'GGA', 'CAA', 'UUA', 'AGU', 'CCA', 'UUU', 'CCU', 'UAU', 'GAG', 'UCU', 'CGU', 'UCA', 'CAG', 'UGU', 'UUG', 'UAC', 'CGU', 'UCA', 'AUA', 'AGA', 'ACA', 'AUG', 'UCA', 'ACA', 'ACC', 'AAG', 'AAG', 'UCA', 'CAG', 'AAU', 'UUA', 'UUG', 'UAG', 'AUG', 'UAA', 'GGU', 'UAA', 'UUC', 'CAG', 'UGA', 'CCA', 'GGU', 'GUC', 'AAU', 'UGU', 'CUG', 'UUA', 'UUG', 'UUA', 'UUG', 'AGA', 'UUU', 'UCG', 'UUC', 'AAC', 'AAG', 'ACA', 'AGG', 'UGA', 'AGA', 'CUA', 'AAG', 'UCA', 'CAU', 'CCG', 'UAA', 'CAG', 'AAG', 'AAC', 'UCC', 'AAA', 'CGG', 'GUA', 'CUA', 'CGG', 'UGU', 'AAG', 'UAC', 'UCG', 'UAG', 'UAC', 'CAG', 'ACC', 'UGG', 'UCA', 'CAG', 'AGG', 'UAC', 'CAU', 'GAA', 'GAG', 'GAG', 'GUA', 'UCU', 'GUA', 'ACA', 'GUC', 'UCU', 'UAC', 'GUC', 'AUG', 'UAU', 'AAG', 'UGA', 'GAG', 'UUA', 'GUC', 'CUG', 'GGG', 'UCC', 'CCG', 'GUU', 'CGU', 'CUC', 'UGG', 'UGU', 'CGU', 'UGG', 'GUA', 'UGA', 'UAG', 'GAC', 'UAC', 'GAC', 'CAU', 'CAG', 'UGU', 'AAA', 'CAA', 'CCG', 'AAA', 'AUA', 'GAA', 'GAU', 'UCA', 'GAA', 'UAA', 'ACA', 'UAG', 'UAG', 'AAA', 'AUG', 'UGG', 'AUA', 'AAA', 'UAU', 'AUA', 'AGA', 'GUA', 'GUA', 'AGG', 'GAC', 'UCC', 'GUA', 'ACG', 'UUA', 'CUG', 'UAA', 'AAC', 'CAA', 'AGC', 'CCA', 'AAG', 'GGA', 'UGU', 'UAA', 'AGA', 'GGA', 'AAU', 'GAC', 'AAC', 'UGG', 'AAG', 'UCU', 'CUG', 'GGA', 'UUC', 'CCA', 'GGA', 'ACA', 'AGA', 'CAC', 'AAG', 'AAG', 'UUG', 'ACA', 'ACU', 'UUC', 'GGU', 'CUC', 'AGU', 'GAU', 'UUU', 'UAC', 'GGU', 'UUG', 'UGU', 'CUU', 'CUG', 'UCG', 'AAA', 'CGA', 'UUA', 'UGG', 'UAA', 'UUU', 'AUG', 'AAA', 'UAA', 'GGU', 'AUU', 'UAU', 'ACA', 'AAA', 'AUU', 'UUC', 'GAA', 'CAU', 'ACU', 'UGU', 'UCC', 'AUA', 'CCA', 'CGA', 'GUG', 'ACG', 'AUA', 'UGA', 'AUA', 'UUU', 'UCU', 'CAU', 'UCC', 'AAU', 'AUU', 'AGU', 'GAA', 'CAA', 'CUA', 'UAC', 'UUU', 'UCU', 'AAA', 'GAC', 'CAA', 'CCU', 'UAG', 'ACU', 'AAC', 'UUU', 'GUC', 'ACU', 'CAA', 'UAA', 'GUG', 'GUG', 'GGA', 'GGU', 'AAG', 'AGA']\n",
            "for complementary sequence:\n",
            "['UCU', 'CUU', 'ACC', 'UCC', 'CAC', 'CAC', 'UUA', 'UUG', 'AGU', 'GAC', 'AAA', 'GUU', 'AGU', 'CUA', 'AGG', 'UUG', 'GUC', 'UUU', 'AGA', 'AAA', 'GUA', 'UAG', 'UUG', 'UUC', 'ACU', 'AAU', 'AUU', 'GGA', 'AUG', 'AGA', 'AAA', 'UAU', 'UCA', 'UAU', 'CGU', 'CAC', 'UCG', 'UGG', 'UAU', 'GGA', 'ACA', 'AGU', 'AUG', 'UUC', 'GAA', 'AAU', 'UUU', 'UGU', 'AUA', 'AAU', 'ACC', 'UUA', 'UUU', 'CAU', 'AAA', 'UUA', 'CCA', 'UAA', 'UCG', 'UUU', 'CGA', 'CAG', 'AAG', 'ACA', 'CAA', 'ACC', 'GUA', 'AAA', 'AUC', 'ACU', 'GAG', 'ACC', 'GAA', 'AGU', 'UGU', 'CAA', 'CUU', 'CUU', 'GUG', 'UCU', 'UGU', 'UCC', 'UGG', 'GAA', 'UCC', 'CAG', 'AGA', 'CUU', 'CCA', 'GUU', 'GUC', 'AUU', 'UCC', 'UCU', 'UUA', 'ACA', 'UCC', 'CUU', 'UGG', 'GCU', 'UUG', 'GUU', 'UUA', 'CAG', 'UAA', 'CGU', 'UAC', 'GGA', 'GUC', 'CCU', 'UAC', 'UAC', 'UCU', 'UAU', 'AUA', 'UUU', 'UAU', 'CCA', 'CAU', 'UUU', 'CUA', 'CUA', 'UGU', 'UUA', 'UUC', 'UGA', 'AUC', 'UUC', 'UAU', 'UUU', 'CGG', 'UUG', 'UUU', 'ACA', 'CUG', 'AUG', 'GUC', 'GUA', 'GUC', 'CUA', 'UCA', 'UAC', 'CCA', 'ACG', 'ACA', 'CCA', 'GAG', 'ACG', 'AAC', 'CGG', 'GGA', 'CCC', 'CAG', 'GAC', 'UAA', 'CUC', 'UCA', 'CUU', 'AUA', 'CAU', 'GAC', 'GUA', 'AGA', 'GAC', 'UGU', 'UAC', 'AGA', 'UAC', 'CUC', 'CUC', 'UUC', 'AUG', 'GUA', 'CCU', 'CUG', 'UGA', 'CCA', 'GGU', 'CUG', 'GUA', 'CUA', 'CGA', 'GUA', 'CUU', 'ACA', 'CCG', 'UAG', 'UAC', 'CCG', 'UUU', 'GGA', 'GUU', 'CUU', 'CUG', 'UUA', 'CGG', 'AUG', 'UGA', 'CUU', 'UAG', 'UCU', 'UCA', 'CCU', 'UGU', 'CUU', 'GUU', 'GAA', 'CGA', 'AAA', 'UCU', 'CAA', 'UAA', 'CAA', 'UAA', 'CAG', 'ACA', 'AUU', 'GAC', 'ACC', 'UGG', 'UCA', 'CUG', 'GAA', 'UUA', 'ACC', 'UUA', 'CAU', 'CUA', 'CAA', 'UAA', 'AUU', 'CUG', 'UGA', 'CUU', 'CUU', 'GGU', 'UGU', 'UGA', 'CAU', 'UGU', 'UCU', 'UAU', 'UGA', 'ACG', 'GUA', 'CAA', 'ACA', 'CUG', 'UGA', 'ACG', 'AGA', 'CUC', 'AUA', 'AGG', 'AAA', 'UGG', 'ACU', 'UAA', 'UUG', 'UCC', 'UUG', 'UUC', 'ACA', 'CUG', 'UUU', 'GAC', 'UAC', 'CUA', 'UGA', 'GUC', 'UUG', 'UGU', 'UCA', 'ACU', 'UGU', 'GUU', 'CAA', 'ACA', 'CGA', 'AGA', 'ACG', 'GUG', 'CUC', 'CGC', 'UCA', 'CUU', 'CUU', 'AAG', 'AUU', 'AAA', 'UGU', 'AAA', 'CUC', 'CAG', 'UCA', 'AAC', 'UCC', 'UUA', 'UUA', 'ACC', 'UCG', 'UUU', 'UCA', 'GUA', 'GUA', 'CAA', 'CAA', 'ACC', 'UUU', 'AUA', 'UCA', 'CUC', 'CUU', 'CUC', 'UCA', 'AUU', 'CCG', 'UAA', 'CCG', 'GUG', 'UCG', 'GUA', 'CAC', 'AGA', 'AUU', 'UUA', 'GUG', 'AAC', 'AGA', 'CCC', 'GGA', 'GAC', 'AAA', 'UCU', 'UGG', 'UCA', 'GCU', 'CUA', 'ACC', 'UCU', 'CUU', 'UAA', 'UAU', 'CUG', 'UUU', 'CUC', 'UUU', 'AUG', 'UAA', 'CCG', 'UUU', 'UCA', 'GGG', 'UUG', 'GGG', 'UUU', 'GAC', 'CGU', 'UUC', 'GUU', 'CUA', 'CUA', 'GAC', 'UUU', 'UCG', 'GUG', 'AAG', 'GAG', 'UCA', 'CCA', 'AAA', 'GUC', 'CCU', 'ACA', 'UAG', 'CAC', 'UCA', 'UCU', 'GUA', 'CCU', 'CUC', 'CCG', 'AAA', 'AAG', 'ACU']\n",
            "['CUC', 'UUA', 'CCU', 'CCC', 'ACC', 'ACU', 'UAU', 'UGA', 'GUG', 'ACA', 'AAG', 'UUA', 'GUC', 'UAA', 'GGU', 'UGG', 'UCU', 'UUA', 'GAA', 'AAG', 'UAU', 'AGU', 'UGU', 'UCA', 'CUA', 'AUA', 'UUG', 'GAA', 'UGA', 'GAA', 'AAU', 'AUU', 'CAU', 'AUC', 'GUC', 'ACU', 'CGU', 'GGU', 'AUG', 'GAA', 'CAA', 'GUA', 'UGU', 'UCG', 'AAA', 'AUU', 'UUU', 'GUA', 'UAA', 'AUA', 'CCU', 'UAU', 'UUC', 'AUA', 'AAU', 'UAC', 'CAU', 'AAU', 'CGU', 'UUC', 'GAC', 'AGA', 'AGA', 'CAC', 'AAA', 'CCG', 'UAA', 'AAA', 'UCA', 'CUG', 'AGA', 'CCG', 'AAA', 'GUU', 'GUC', 'AAC', 'UUC', 'UUG', 'UGU', 'CUU', 'GUU', 'CCU', 'GGG', 'AAU', 'CCC', 'AGA', 'GAC', 'UUC', 'CAG', 'UUG', 'UCA', 'UUU', 'CCU', 'CUU', 'UAA', 'CAU', 'CCC', 'UUU', 'GGG', 'CUU', 'UGG', 'UUU', 'UAC', 'AGU', 'AAC', 'GUU', 'ACG', 'GAG', 'UCC', 'CUU', 'ACU', 'ACU', 'CUU', 'AUA', 'UAU', 'UUU', 'AUC', 'CAC', 'AUU', 'UUC', 'UAC', 'UAU', 'GUU', 'UAU', 'UCU', 'GAA', 'UCU', 'UCU', 'AUU', 'UUC', 'GGU', 'UGU', 'UUA', 'CAC', 'UGA', 'UGG', 'UCG', 'UAG', 'UCC', 'UAU', 'CAU', 'ACC', 'CAA', 'CGA', 'CAC', 'CAG', 'AGA', 'CGA', 'ACC', 'GGG', 'GAC', 'CCC', 'AGG', 'ACU', 'AAC', 'UCU', 'CAC', 'UUA', 'UAC', 'AUG', 'ACG', 'UAA', 'GAG', 'ACU', 'GUU', 'ACA', 'GAU', 'ACC', 'UCC', 'UCU', 'UCA', 'UGG', 'UAC', 'CUC', 'UGU', 'GAC', 'CAG', 'GUC', 'UGG', 'UAC', 'UAC', 'GAG', 'UAC', 'UUA', 'CAC', 'CGU', 'AGU', 'ACC', 'CGU', 'UUG', 'GAG', 'UUC', 'UUC', 'UGU', 'UAC', 'GGA', 'UGU', 'GAC', 'UUU', 'AGU', 'CUU', 'CAC', 'CUU', 'GUC', 'UUG', 'UUG', 'AAC', 'GAA', 'AAU', 'CUC', 'AAU', 'AAC', 'AAU', 'AAC', 'AGA', 'CAA', 'UUG', 'ACA', 'CCU', 'GGU', 'CAC', 'UGG', 'AAU', 'UAA', 'CCU', 'UAC', 'AUC', 'UAC', 'AAU', 'AAA', 'UUC', 'UGU', 'GAC', 'UUC', 'UUG', 'GUU', 'GUU', 'GAC', 'AUU', 'GUU', 'CUU', 'AUU', 'GAA', 'CGG', 'UAC', 'AAA', 'CAC', 'UGU', 'GAA', 'CGA', 'GAC', 'UCA', 'UAA', 'GGA', 'AAU', 'GGA', 'CUU', 'AAU', 'UGU', 'CCU', 'UGU', 'UCA', 'CAC', 'UGU', 'UUG', 'ACU', 'ACC', 'UAU', 'GAG', 'UCU', 'UGU', 'GUU', 'CAA', 'CUU', 'GUG', 'UUC', 'AAA', 'CAC', 'GAA', 'GAA', 'CGG', 'UGC', 'UCC', 'GCU', 'CAC', 'UUC', 'UUA', 'AGA', 'UUA', 'AAU', 'GUA', 'AAC', 'UCC', 'AGU', 'CAA', 'ACU', 'CCU', 'UAU', 'UAA', 'CCU', 'CGU', 'UUU', 'CAG', 'UAG', 'UAC', 'AAC', 'AAA', 'CCU', 'UUA', 'UAU', 'CAC', 'UCC', 'UUC', 'UCU', 'CAA', 'UUC', 'CGU', 'AAC', 'CGG', 'UGU', 'CGG', 'UAC', 'ACA', 'GAA', 'UUU', 'UAG', 'UGA', 'ACA', 'GAC', 'CCG', 'GAG', 'ACA', 'AAU', 'CUU', 'GGU', 'CAG', 'CUC', 'UAA', 'CCU', 'CUC', 'UUU', 'AAU', 'AUC', 'UGU', 'UUC', 'UCU', 'UUA', 'UGU', 'AAC', 'CGU', 'UUU', 'CAG', 'GGU', 'UGG', 'GGU', 'UUG', 'ACC', 'GUU', 'UCG', 'UUC', 'UAC', 'UAG', 'ACU', 'UUU', 'CGG', 'UGA', 'AGG', 'AGU', 'CAC', 'CAA', 'AAG', 'UCC', 'CUA', 'CAU', 'AGC', 'ACU', 'CAU', 'CUG', 'UAC', 'CUC', 'UCC', 'CGA', 'AAA', 'AGA', 'CUG']\n",
            "['UCU', 'UAC', 'CUC', 'CCA', 'CCA', 'CUU', 'AUU', 'GAG', 'UGA', 'CAA', 'AGU', 'UAG', 'UCU', 'AAG', 'GUU', 'GGU', 'CUU', 'UAG', 'AAA', 'AGU', 'AUA', 'GUU', 'GUU', 'CAC', 'UAA', 'UAU', 'UGG', 'AAU', 'GAG', 'AAA', 'AUA', 'UUC', 'AUA', 'UCG', 'UCA', 'CUC', 'GUG', 'GUA', 'UGG', 'AAC', 'AAG', 'UAU', 'GUU', 'CGA', 'AAA', 'UUU', 'UUG', 'UAU', 'AAA', 'UAC', 'CUU', 'AUU', 'UCA', 'UAA', 'AUU', 'ACC', 'AUA', 'AUC', 'GUU', 'UCG', 'ACA', 'GAA', 'GAC', 'ACA', 'AAC', 'CGU', 'AAA', 'AAU', 'CAC', 'UGA', 'GAC', 'CGA', 'AAG', 'UUG', 'UCA', 'ACU', 'UCU', 'UGU', 'GUC', 'UUG', 'UUC', 'CUG', 'GGA', 'AUC', 'CCA', 'GAG', 'ACU', 'UCC', 'AGU', 'UGU', 'CAU', 'UUC', 'CUC', 'UUU', 'AAC', 'AUC', 'CCU', 'UUG', 'GGC', 'UUU', 'GGU', 'UUU', 'ACA', 'GUA', 'ACG', 'UUA', 'CGG', 'AGU', 'CCC', 'UUA', 'CUA', 'CUC', 'UUA', 'UAU', 'AUU', 'UUA', 'UCC', 'ACA', 'UUU', 'UCU', 'ACU', 'AUG', 'UUU', 'AUU', 'CUG', 'AAU', 'CUU', 'CUA', 'UUU', 'UCG', 'GUU', 'GUU', 'UAC', 'ACU', 'GAU', 'GGU', 'CGU', 'AGU', 'CCU', 'AUC', 'AUA', 'CCC', 'AAC', 'GAC', 'ACC', 'AGA', 'GAC', 'GAA', 'CCG', 'GGG', 'ACC', 'CCA', 'GGA', 'CUA', 'ACU', 'CUC', 'ACU', 'UAU', 'ACA', 'UGA', 'CGU', 'AAG', 'AGA', 'CUG', 'UUA', 'CAG', 'AUA', 'CCU', 'CCU', 'CUU', 'CAU', 'GGU', 'ACC', 'UCU', 'GUG', 'ACC', 'AGG', 'UCU', 'GGU', 'ACU', 'ACG', 'AGU', 'ACU', 'UAC', 'ACC', 'GUA', 'GUA', 'CCC', 'GUU', 'UGG', 'AGU', 'UCU', 'UCU', 'GUU', 'ACG', 'GAU', 'GUG', 'ACU', 'UUA', 'GUC', 'UUC', 'ACC', 'UUG', 'UCU', 'UGU', 'UGA', 'ACG', 'AAA', 'AUC', 'UCA', 'AUA', 'ACA', 'AUA', 'ACA', 'GAC', 'AAU', 'UGA', 'CAC', 'CUG', 'GUC', 'ACU', 'GGA', 'AUU', 'AAC', 'CUU', 'ACA', 'UCU', 'ACA', 'AUA', 'AAU', 'UCU', 'GUG', 'ACU', 'UCU', 'UGG', 'UUG', 'UUG', 'ACA', 'UUG', 'UUC', 'UUA', 'UUG', 'AAC', 'GGU', 'ACA', 'AAC', 'ACU', 'GUG', 'AAC', 'GAG', 'ACU', 'CAU', 'AAG', 'GAA', 'AUG', 'GAC', 'UUA', 'AUU', 'GUC', 'CUU', 'GUU', 'CAC', 'ACU', 'GUU', 'UGA', 'CUA', 'CCU', 'AUG', 'AGU', 'CUU', 'GUG', 'UUC', 'AAC', 'UUG', 'UGU', 'UCA', 'AAC', 'ACG', 'AAG', 'AAC', 'GGU', 'GCU', 'CCG', 'CUC', 'ACU', 'UCU', 'UAA', 'GAU', 'UAA', 'AUG', 'UAA', 'ACU', 'CCA', 'GUC', 'AAA', 'CUC', 'CUU', 'AUU', 'AAC', 'CUC', 'GUU', 'UUC', 'AGU', 'AGU', 'ACA', 'ACA', 'AAC', 'CUU', 'UAU', 'AUC', 'ACU', 'CCU', 'UCU', 'CUC', 'AAU', 'UCC', 'GUA', 'ACC', 'GGU', 'GUC', 'GGU', 'ACA', 'CAG', 'AAU', 'UUU', 'AGU', 'GAA', 'CAG', 'ACC', 'CGG', 'AGA', 'CAA', 'AUC', 'UUG', 'GUC', 'AGC', 'UCU', 'AAC', 'CUC', 'UCU', 'UUA', 'AUA', 'UCU', 'GUU', 'UCU', 'CUU', 'UAU', 'GUA', 'ACC', 'GUU', 'UUC', 'AGG', 'GUU', 'GGG', 'GUU', 'UGA', 'CCG', 'UUU', 'CGU', 'UCU', 'ACU', 'AGA', 'CUU', 'UUC', 'GGU', 'GAA', 'GGA', 'GUC', 'ACC', 'AAA', 'AGU', 'CCC', 'UAC', 'AUA', 'GCA', 'CUC', 'AUC', 'UGU', 'ACC', 'UCU', 'CCC', 'GAA', 'AAA', 'GAC', 'UGG']\n"
          ]
        }
      ],
      "source": [
        "def find_complimentary_dna(dna_to_compliemnt):\n",
        "  _complement_seq = ''\n",
        "\n",
        "  for pos in range(0,len(dna_to_compliemnt)):\n",
        "    _last_char = dna_to_compliemnt[len(dna_to_compliemnt)-pos-1]\n",
        "\n",
        "    if _last_char == 'A':\n",
        "      _complement_seq = _complement_seq + 'T'\n",
        "    elif _last_char == 'T':\n",
        "      _complement_seq = _complement_seq + 'A'\n",
        "    elif _last_char == 'C':\n",
        "      _complement_seq = _complement_seq + 'G'\n",
        "    elif _last_char == 'G':\n",
        "      _complement_seq = _complement_seq + 'C'\n",
        "  \n",
        "  return _complement_seq\n",
        "\n",
        "def transcribe_dna_into_rna(dna_to_transcribe):\n",
        "  _transcribed_seq = ''\n",
        "\n",
        "  for char in dna_to_transcribe:\n",
        "    \n",
        "      if char == 'A':\n",
        "        _transcribed_seq = _transcribed_seq + 'U'\n",
        "      elif char == 'T':\n",
        "        _transcribed_seq = _transcribed_seq + 'A'\n",
        "      elif char == 'C':\n",
        "        _transcribed_seq = _transcribed_seq + 'G'\n",
        "      elif char == 'G':\n",
        "        _transcribed_seq = _transcribed_seq + 'C'\n",
        "      \n",
        "  return _transcribed_seq\n",
        "\n",
        "def find_orfs(dna_to_search, start_index):\n",
        "  _start = start_index\n",
        "  _ORFs = []\n",
        "  while _start <= len(dna_to_search) - 3:\n",
        "    _codon = dna_to_search[_start:_start + 3]\n",
        "    _ORFs.append(_codon)\n",
        "    _start = _start + 3\n",
        "  return _ORFs\n",
        "\n",
        "def transcribe(dna):\n",
        "  complimentary_dna = find_complimentary_dna(dna)\n",
        "  transcribed_dna = transcribe_dna_into_rna(dna)\n",
        "  transcribed_compliement = transcribe_dna_into_rna(complimentary_dna)\n",
        "  print('For primary sequence:')\n",
        "  print(find_orfs(transcribed_dna, 0))\n",
        "  print(find_orfs(transcribed_dna, 1))\n",
        "  print(find_orfs(transcribed_dna, 2))\n",
        "  print('for complementary sequence:')\n",
        "  print(find_orfs(transcribed_compliement, 0))\n",
        "  print(find_orfs(transcribed_compliement, 1))\n",
        "  print(find_orfs(transcribed_compliement, 2))\n",
        "\n",
        "transcribe(_dna)"
      ]
    },
    {
      "cell_type": "code",
      "source": [
        "transcribed_1 = ['CCA', 'GUC', 'UUU', 'UUC', 'GGG', 'AGA', 'GGU', 'ACA', 'GAU', 'GAG', 'UGC', 'UAU', 'GUA', 'GGG', 'ACU', 'UUU', 'GGU', 'GAC', 'UCC', 'UUC', 'ACC', 'GAA', 'AAG', 'UCU', 'AGU', 'AGA', 'ACG', 'AAA', 'CGG', 'UCA', 'AAC', 'CCC', 'AAC', 'CCU', 'GAA', 'AAC', 'GGU', 'UAC', 'AUA', 'AAG', 'AGA', 'AAC', 'AGA', 'UAU', 'UAA', 'AGA', 'GAG', 'GUU', 'AGA', 'GCU', 'GAC', 'CAA', 'GAU', 'UUG', 'UCU', 'CCG', 'GGU', 'CUG', 'UUC', 'ACU', 'AAA', 'AUU', 'CUG', 'UGU', 'ACC', 'GAC', 'ACC', 'GGU', 'UAC', 'GGA', 'AUU', 'GAG', 'AGA', 'AGG', 'AGU', 'GAU', 'AUA', 'AAG', 'GUU', 'UGU', 'UGU', 'ACU', 'ACU', 'GAA', 'AAC', 'GAG', 'GUU', 'AAU', 'AAG', 'GAG', 'UUU', 'GAC', 'UGG', 'AGU', 'UUA', 'CAU', 'UUA', 'AUC', 'UUA', 'AGA', 'AGU', 'GAG', 'CGG', 'AGC', 'ACC', 'GUU', 'CUU', 'CGU', 'GUU', 'UGA', 'ACA', 'CAA', 'GUU', 'GAA', 'CAC', 'AAG', 'ACU', 'CAU', 'AGG', 'UAG', 'UCA', 'AAC', 'AGU', 'GUG', 'AAC', 'AAG', 'GAC', 'AAU', 'UAA', 'GUC', 'CAU', 'UUC', 'CUU', 'AUG', 'AGU', 'CUC', 'GUU', 'CAC', 'AGU', 'GUU', 'UGU', 'ACC', 'GUU', 'CAA', 'UAA', 'GAA', 'CAA', 'UGU', 'CAA', 'CAA', 'CCA', 'AGA', 'AGU', 'CAC', 'AGA', 'AUU', 'UAU', 'UGU', 'AGA', 'UGU', 'AAG', 'GUU', 'AAU', 'UCC', 'AGU', 'GAC', 'CAG', 'GUG', 'UCA', 'AUU', 'GUC', 'UGU', 'UAU', 'UGU', 'UAU', 'UGA', 'GAU', 'UUU', 'CGU', 'UCA', 'ACA', 'AGA', 'CAA', 'GGU', 'GAA', 'GAC', 'UAA', 'AGU', 'CAC', 'AUC', 'CGU', 'AAC', 'AGA', 'AGA', 'ACU', 'CCA', 'AAC', 'GGG', 'UAC', 'UAC', 'GGU', 'GUA', 'AGU', 'ACU', 'CGU', 'AGU', 'ACC', 'AGA', 'CCU', 'GGU', 'CAC', 'AGA', 'GGU', 'ACC', 'AUG', 'AAG', 'AGG', 'AGG', 'UAU', 'CUG', 'UAA', 'CAG', 'UCU', 'CUU', 'ACG', 'UCA', 'UGU', 'AUA', 'AGU', 'GAG', 'AGU', 'UAG', 'UCC', 'UGG', 'GGU', 'CCC', 'CGG', 'UUC', 'GUC', 'UCU', 'GGU', 'GUC', 'GUU', 'GGG', 'UAU', 'GAU', 'AGG', 'ACU', 'ACG', 'ACC', 'AUC', 'AGU', 'GUA', 'AAC', 'AAC', 'CGA', 'AAA', 'UAG', 'AAG', 'AUU', 'CAG', 'AAU', 'AAA', 'CAU', 'AGU', 'AGA', 'AAA', 'UGU', 'GGA', 'UAA', 'AAU', 'AUA', 'UAA', 'GAG', 'UAG', 'UAA', 'GGG', 'ACU', 'CCG', 'UAA', 'CGU', 'UAC', 'UGU', 'AAA', 'ACC', 'AAA', 'GCC', 'CAA', 'AGG', 'GAU', 'GUU', 'AAA', 'GAG', 'GAA', 'AUG', 'ACA', 'ACU', 'GGA', 'AGU', 'CUC', 'UGG', 'GAU', 'UCC', 'CAG', 'GAA', 'CAA', 'GAC', 'ACA', 'AGA', 'AGU', 'UGA', 'CAA', 'CUU', 'UCG', 'GUC', 'UCA', 'GUG', 'AUU', 'UUU', 'ACG', 'GUU', 'UGU', 'GUC', 'UUC', 'UGU', 'CGA', 'AAC', 'GAU', 'UAU', 'GGU', 'AAU', 'UUA', 'UGA', 'AAU', 'AAG', 'GUA', 'UUU', 'AUA', 'CAA', 'AAA', 'UUU', 'UCG', 'AAC', 'AUA', 'CUU', 'GUU', 'CCA', 'UAC', 'CAC', 'GAG', 'UGA', 'CGA', 'UAU', 'GAA', 'UAU', 'UUU', 'CUC', 'AUU', 'CCA', 'AUA', 'UUA', 'GUG', 'AAC', 'AAC', 'UAU', 'ACU', 'UUU', 'CUA', 'AAG', 'ACC', 'AAC', 'CUU', 'AGA', 'CUA', 'ACU', 'UUG', 'UCA', 'CUC', 'AAU', 'AAG', 'UGG', 'UGG', 'GAG', 'GUA', 'AGA']\n",
        "transcribed_2 = ['CAG', 'UCU', 'UUU', 'UCG', 'GGA', 'GAG', 'GUA', 'CAG', 'AUG', 'AGU', 'GCU', 'AUG', 'UAG', 'GGA', 'CUU', 'UUG', 'GUG', 'ACU', 'CCU', 'UCA', 'CCG', 'AAA', 'AGU', 'CUA', 'GUA', 'GAA', 'CGA', 'AAC', 'GGU', 'CAA', 'ACC', 'CCA', 'ACC', 'CUG', 'AAA', 'ACG', 'GUU', 'ACA', 'UAA', 'AGA', 'GAA', 'ACA', 'GAU', 'AUU', 'AAA', 'GAG', 'AGG', 'UUA', 'GAG', 'CUG', 'ACC', 'AAG', 'AUU', 'UGU', 'CUC', 'CGG', 'GUC', 'UGU', 'UCA', 'CUA', 'AAA', 'UUC', 'UGU', 'GUA', 'CCG', 'ACA', 'CCG', 'GUU', 'ACG', 'GAA', 'UUG', 'AGA', 'GAA', 'GGA', 'GUG', 'AUA', 'UAA', 'AGG', 'UUU', 'GUU', 'GUA', 'CUA', 'CUG', 'AAA', 'ACG', 'AGG', 'UUA', 'AUA', 'AGG', 'AGU', 'UUG', 'ACU', 'GGA', 'GUU', 'UAC', 'AUU', 'UAA', 'UCU', 'UAA', 'GAA', 'GUG', 'AGC', 'GGA', 'GCA', 'CCG', 'UUC', 'UUC', 'GUG', 'UUU', 'GAA', 'CAC', 'AAG', 'UUG', 'AAC', 'ACA', 'AGA', 'CUC', 'AUA', 'GGU', 'AGU', 'CAA', 'ACA', 'GUG', 'UGA', 'ACA', 'AGG', 'ACA', 'AUU', 'AAG', 'UCC', 'AUU', 'UCC', 'UUA', 'UGA', 'GUC', 'UCG', 'UUC', 'ACA', 'GUG', 'UUU', 'GUA', 'CCG', 'UUC', 'AAU', 'AAG', 'AAC', 'AAU', 'GUC', 'AAC', 'AAC', 'CAA', 'GAA', 'GUC', 'ACA', 'GAA', 'UUU', 'AUU', 'GUA', 'GAU', 'GUA', 'AGG', 'UUA', 'AUU', 'CCA', 'GUG', 'ACC', 'AGG', 'UGU', 'CAA', 'UUG', 'UCU', 'GUU', 'AUU', 'GUU', 'AUU', 'GAG', 'AUU', 'UUC', 'GUU', 'CAA', 'CAA', 'GAC', 'AAG', 'GUG', 'AAG', 'ACU', 'AAA', 'GUC', 'ACA', 'UCC', 'GUA', 'ACA', 'GAA', 'GAA', 'CUC', 'CAA', 'ACG', 'GGU', 'ACU', 'ACG', 'GUG', 'UAA', 'GUA', 'CUC', 'GUA', 'GUA', 'CCA', 'GAC', 'CUG', 'GUC', 'ACA', 'GAG', 'GUA', 'CCA', 'UGA', 'AGA', 'GGA', 'GGU', 'AUC', 'UGU', 'AAC', 'AGU', 'CUC', 'UUA', 'CGU', 'CAU', 'GUA', 'UAA', 'GUG', 'AGA', 'GUU', 'AGU', 'CCU', 'GGG', 'GUC', 'CCC', 'GGU', 'UCG', 'UCU', 'CUG', 'GUG', 'UCG', 'UUG', 'GGU', 'AUG', 'AUA', 'GGA', 'CUA', 'CGA', 'CCA', 'UCA', 'GUG', 'UAA', 'ACA', 'ACC', 'GAA', 'AAU', 'AGA', 'AGA', 'UUC', 'AGA', 'AUA', 'AAC', 'AUA', 'GUA', 'GAA', 'AAU', 'GUG', 'GAU', 'AAA', 'AUA', 'UAU', 'AAG', 'AGU', 'AGU', 'AAG', 'GGA', 'CUC', 'CGU', 'AAC', 'GUU', 'ACU', 'GUA', 'AAA', 'CCA', 'AAG', 'CCC', 'AAA', 'GGG', 'AUG', 'UUA', 'AAG', 'AGG', 'AAA', 'UGA', 'CAA', 'CUG', 'GAA', 'GUC', 'UCU', 'GGG', 'AUU', 'CCC', 'AGG', 'AAC', 'AAG', 'ACA', 'CAA', 'GAA', 'GUU', 'GAC', 'AAC', 'UUU', 'CGG', 'UCU', 'CAG', 'UGA', 'UUU', 'UUA', 'CGG', 'UUU', 'GUG', 'UCU', 'UCU', 'GUC', 'GAA', 'ACG', 'AUU', 'AUG', 'GUA', 'AUU', 'UAU', 'GAA', 'AUA', 'AGG', 'UAU', 'UUA', 'UAC', 'AAA', 'AAU', 'UUU', 'CGA', 'ACA', 'UAC', 'UUG', 'UUC', 'CAU', 'ACC', 'ACG', 'AGU', 'GAC', 'GAU', 'AUG', 'AAU', 'AUU', 'UUC', 'UCA', 'UUC', 'CAA', 'UAU', 'UAG', 'UGA', 'ACA', 'ACU', 'AUA', 'CUU', 'UUC', 'UAA', 'AGA', 'CCA', 'ACC', 'UUA', 'GAC', 'UAA', 'CUU', 'UGU', 'CAC', 'UCA', 'AUA', 'AGU', 'GGU', 'GGG', 'AGG', 'UAA', 'GAG']\n",
        "transcribed_3 = ['AGU', 'CUU', 'UUU', 'CGG', 'GAG', 'AGG', 'UAC', 'AGA', 'UGA', 'GUG', 'CUA', 'UGU', 'AGG', 'GAC', 'UUU', 'UGG', 'UGA', 'CUC', 'CUU', 'CAC', 'CGA', 'AAA', 'GUC', 'UAG', 'UAG', 'AAC', 'GAA', 'ACG', 'GUC', 'AAA', 'CCC', 'CAA', 'CCC', 'UGA', 'AAA', 'CGG', 'UUA', 'CAU', 'AAA', 'GAG', 'AAA', 'CAG', 'AUA', 'UUA', 'AAG', 'AGA', 'GGU', 'UAG', 'AGC', 'UGA', 'CCA', 'AGA', 'UUU', 'GUC', 'UCC', 'GGG', 'UCU', 'GUU', 'CAC', 'UAA', 'AAU', 'UCU', 'GUG', 'UAC', 'CGA', 'CAC', 'CGG', 'UUA', 'CGG', 'AAU', 'UGA', 'GAG', 'AAG', 'GAG', 'UGA', 'UAU', 'AAA', 'GGU', 'UUG', 'UUG', 'UAC', 'UAC', 'UGA', 'AAA', 'CGA', 'GGU', 'UAA', 'UAA', 'GGA', 'GUU', 'UGA', 'CUG', 'GAG', 'UUU', 'ACA', 'UUU', 'AAU', 'CUU', 'AAG', 'AAG', 'UGA', 'GCG', 'GAG', 'CAC', 'CGU', 'UCU', 'UCG', 'UGU', 'UUG', 'AAC', 'ACA', 'AGU', 'UGA', 'ACA', 'CAA', 'GAC', 'UCA', 'UAG', 'GUA', 'GUC', 'AAA', 'CAG', 'UGU', 'GAA', 'CAA', 'GGA', 'CAA', 'UUA', 'AGU', 'CCA', 'UUU', 'CCU', 'UAU', 'GAG', 'UCU', 'CGU', 'UCA', 'CAG', 'UGU', 'UUG', 'UAC', 'CGU', 'UCA', 'AUA', 'AGA', 'ACA', 'AUG', 'UCA', 'ACA', 'ACC', 'AAG', 'AAG', 'UCA', 'CAG', 'AAU', 'UUA', 'UUG', 'UAG', 'AUG', 'UAA', 'GGU', 'UAA', 'UUC', 'CAG', 'UGA', 'CCA', 'GGU', 'GUC', 'AAU', 'UGU', 'CUG', 'UUA', 'UUG', 'UUA', 'UUG', 'AGA', 'UUU', 'UCG', 'UUC', 'AAC', 'AAG', 'ACA', 'AGG', 'UGA', 'AGA', 'CUA', 'AAG', 'UCA', 'CAU', 'CCG', 'UAA', 'CAG', 'AAG', 'AAC', 'UCC', 'AAA', 'CGG', 'GUA', 'CUA', 'CGG', 'UGU', 'AAG', 'UAC', 'UCG', 'UAG', 'UAC', 'CAG', 'ACC', 'UGG', 'UCA', 'CAG', 'AGG', 'UAC', 'CAU', 'GAA', 'GAG', 'GAG', 'GUA', 'UCU', 'GUA', 'ACA', 'GUC', 'UCU', 'UAC', 'GUC', 'AUG', 'UAU', 'AAG', 'UGA', 'GAG', 'UUA', 'GUC', 'CUG', 'GGG', 'UCC', 'CCG', 'GUU', 'CGU', 'CUC', 'UGG', 'UGU', 'CGU', 'UGG', 'GUA', 'UGA', 'UAG', 'GAC', 'UAC', 'GAC', 'CAU', 'CAG', 'UGU', 'AAA', 'CAA', 'CCG', 'AAA', 'AUA', 'GAA', 'GAU', 'UCA', 'GAA', 'UAA', 'ACA', 'UAG', 'UAG', 'AAA', 'AUG', 'UGG', 'AUA', 'AAA', 'UAU', 'AUA', 'AGA', 'GUA', 'GUA', 'AGG', 'GAC', 'UCC', 'GUA', 'ACG', 'UUA', 'CUG', 'UAA', 'AAC', 'CAA', 'AGC', 'CCA', 'AAG', 'GGA', 'UGU', 'UAA', 'AGA', 'GGA', 'AAU', 'GAC', 'AAC', 'UGG', 'AAG', 'UCU', 'CUG', 'GGA', 'UUC', 'CCA', 'GGA', 'ACA', 'AGA', 'CAC', 'AAG', 'AAG', 'UUG', 'ACA', 'ACU', 'UUC', 'GGU', 'CUC', 'AGU', 'GAU', 'UUU', 'UAC', 'GGU', 'UUG', 'UGU', 'CUU', 'CUG', 'UCG', 'AAA', 'CGA', 'UUA', 'UGG', 'UAA', 'UUU', 'AUG', 'AAA', 'UAA', 'GGU', 'AUU', 'UAU', 'ACA', 'AAA', 'AUU', 'UUC', 'GAA', 'CAU', 'ACU', 'UGU', 'UCC', 'AUA', 'CCA', 'CGA', 'GUG', 'ACG', 'AUA', 'UGA', 'AUA', 'UUU', 'UCU', 'CAU', 'UCC', 'AAU', 'AUU', 'AGU', 'GAA', 'CAA', 'CUA', 'UAC', 'UUU', 'UCU', 'AAA', 'GAC', 'CAA', 'CCU', 'UAG', 'ACU', 'AAC', 'UUU', 'GUC', 'ACU', 'CAA', 'UAA', 'GUG', 'GUG', 'GGA', 'GGU', 'AAG', 'AGA']\n",
        "c_transcribed_1 = ['UCU', 'CUU', 'ACC', 'UCC', 'CAC', 'CAC', 'UUA', 'UUG', 'AGU', 'GAC', 'AAA', 'GUU', 'AGU', 'CUA', 'AGG', 'UUG', 'GUC', 'UUU', 'AGA', 'AAA', 'GUA', 'UAG', 'UUG', 'UUC', 'ACU', 'AAU', 'AUU', 'GGA', 'AUG', 'AGA', 'AAA', 'UAU', 'UCA', 'UAU', 'CGU', 'CAC', 'UCG', 'UGG', 'UAU', 'GGA', 'ACA', 'AGU', 'AUG', 'UUC', 'GAA', 'AAU', 'UUU', 'UGU', 'AUA', 'AAU', 'ACC', 'UUA', 'UUU', 'CAU', 'AAA', 'UUA', 'CCA', 'UAA', 'UCG', 'UUU', 'CGA', 'CAG', 'AAG', 'ACA', 'CAA', 'ACC', 'GUA', 'AAA', 'AUC', 'ACU', 'GAG', 'ACC', 'GAA', 'AGU', 'UGU', 'CAA', 'CUU', 'CUU', 'GUG', 'UCU', 'UGU', 'UCC', 'UGG', 'GAA', 'UCC', 'CAG', 'AGA', 'CUU', 'CCA', 'GUU', 'GUC', 'AUU', 'UCC', 'UCU', 'UUA', 'ACA', 'UCC', 'CUU', 'UGG', 'GCU', 'UUG', 'GUU', 'UUA', 'CAG', 'UAA', 'CGU', 'UAC', 'GGA', 'GUC', 'CCU', 'UAC', 'UAC', 'UCU', 'UAU', 'AUA', 'UUU', 'UAU', 'CCA', 'CAU', 'UUU', 'CUA', 'CUA', 'UGU', 'UUA', 'UUC', 'UGA', 'AUC', 'UUC', 'UAU', 'UUU', 'CGG', 'UUG', 'UUU', 'ACA', 'CUG', 'AUG', 'GUC', 'GUA', 'GUC', 'CUA', 'UCA', 'UAC', 'CCA', 'ACG', 'ACA', 'CCA', 'GAG', 'ACG', 'AAC', 'CGG', 'GGA', 'CCC', 'CAG', 'GAC', 'UAA', 'CUC', 'UCA', 'CUU', 'AUA', 'CAU', 'GAC', 'GUA', 'AGA', 'GAC', 'UGU', 'UAC', 'AGA', 'UAC', 'CUC', 'CUC', 'UUC', 'AUG', 'GUA', 'CCU', 'CUG', 'UGA', 'CCA', 'GGU', 'CUG', 'GUA', 'CUA', 'CGA', 'GUA', 'CUU', 'ACA', 'CCG', 'UAG', 'UAC', 'CCG', 'UUU', 'GGA', 'GUU', 'CUU', 'CUG', 'UUA', 'CGG', 'AUG', 'UGA', 'CUU', 'UAG', 'UCU', 'UCA', 'CCU', 'UGU', 'CUU', 'GUU', 'GAA', 'CGA', 'AAA', 'UCU', 'CAA', 'UAA', 'CAA', 'UAA', 'CAG', 'ACA', 'AUU', 'GAC', 'ACC', 'UGG', 'UCA', 'CUG', 'GAA', 'UUA', 'ACC', 'UUA', 'CAU', 'CUA', 'CAA', 'UAA', 'AUU', 'CUG', 'UGA', 'CUU', 'CUU', 'GGU', 'UGU', 'UGA', 'CAU', 'UGU', 'UCU', 'UAU', 'UGA', 'ACG', 'GUA', 'CAA', 'ACA', 'CUG', 'UGA', 'ACG', 'AGA', 'CUC', 'AUA', 'AGG', 'AAA', 'UGG', 'ACU', 'UAA', 'UUG', 'UCC', 'UUG', 'UUC', 'ACA', 'CUG', 'UUU', 'GAC', 'UAC', 'CUA', 'UGA', 'GUC', 'UUG', 'UGU', 'UCA', 'ACU', 'UGU', 'GUU', 'CAA', 'ACA', 'CGA', 'AGA', 'ACG', 'GUG', 'CUC', 'CGC', 'UCA', 'CUU', 'CUU', 'AAG', 'AUU', 'AAA', 'UGU', 'AAA', 'CUC', 'CAG', 'UCA', 'AAC', 'UCC', 'UUA', 'UUA', 'ACC', 'UCG', 'UUU', 'UCA', 'GUA', 'GUA', 'CAA', 'CAA', 'ACC', 'UUU', 'AUA', 'UCA', 'CUC', 'CUU', 'CUC', 'UCA', 'AUU', 'CCG', 'UAA', 'CCG', 'GUG', 'UCG', 'GUA', 'CAC', 'AGA', 'AUU', 'UUA', 'GUG', 'AAC', 'AGA', 'CCC', 'GGA', 'GAC', 'AAA', 'UCU', 'UGG', 'UCA', 'GCU', 'CUA', 'ACC', 'UCU', 'CUU', 'UAA', 'UAU', 'CUG', 'UUU', 'CUC', 'UUU', 'AUG', 'UAA', 'CCG', 'UUU', 'UCA', 'GGG', 'UUG', 'GGG', 'UUU', 'GAC', 'CGU', 'UUC', 'GUU', 'CUA', 'CUA', 'GAC', 'UUU', 'UCG', 'GUG', 'AAG', 'GAG', 'UCA', 'CCA', 'AAA', 'GUC', 'CCU', 'ACA', 'UAG', 'CAC', 'UCA', 'UCU', 'GUA', 'CCU', 'CUC', 'CCG', 'AAA', 'AAG', 'ACU']\n",
        "c_transcribed_2 = ['CUC', 'UUA', 'CCU', 'CCC', 'ACC', 'ACU', 'UAU', 'UGA', 'GUG', 'ACA', 'AAG', 'UUA', 'GUC', 'UAA', 'GGU', 'UGG', 'UCU', 'UUA', 'GAA', 'AAG', 'UAU', 'AGU', 'UGU', 'UCA', 'CUA', 'AUA', 'UUG', 'GAA', 'UGA', 'GAA', 'AAU', 'AUU', 'CAU', 'AUC', 'GUC', 'ACU', 'CGU', 'GGU', 'AUG', 'GAA', 'CAA', 'GUA', 'UGU', 'UCG', 'AAA', 'AUU', 'UUU', 'GUA', 'UAA', 'AUA', 'CCU', 'UAU', 'UUC', 'AUA', 'AAU', 'UAC', 'CAU', 'AAU', 'CGU', 'UUC', 'GAC', 'AGA', 'AGA', 'CAC', 'AAA', 'CCG', 'UAA', 'AAA', 'UCA', 'CUG', 'AGA', 'CCG', 'AAA', 'GUU', 'GUC', 'AAC', 'UUC', 'UUG', 'UGU', 'CUU', 'GUU', 'CCU', 'GGG', 'AAU', 'CCC', 'AGA', 'GAC', 'UUC', 'CAG', 'UUG', 'UCA', 'UUU', 'CCU', 'CUU', 'UAA', 'CAU', 'CCC', 'UUU', 'GGG', 'CUU', 'UGG', 'UUU', 'UAC', 'AGU', 'AAC', 'GUU', 'ACG', 'GAG', 'UCC', 'CUU', 'ACU', 'ACU', 'CUU', 'AUA', 'UAU', 'UUU', 'AUC', 'CAC', 'AUU', 'UUC', 'UAC', 'UAU', 'GUU', 'UAU', 'UCU', 'GAA', 'UCU', 'UCU', 'AUU', 'UUC', 'GGU', 'UGU', 'UUA', 'CAC', 'UGA', 'UGG', 'UCG', 'UAG', 'UCC', 'UAU', 'CAU', 'ACC', 'CAA', 'CGA', 'CAC', 'CAG', 'AGA', 'CGA', 'ACC', 'GGG', 'GAC', 'CCC', 'AGG', 'ACU', 'AAC', 'UCU', 'CAC', 'UUA', 'UAC', 'AUG', 'ACG', 'UAA', 'GAG', 'ACU', 'GUU', 'ACA', 'GAU', 'ACC', 'UCC', 'UCU', 'UCA', 'UGG', 'UAC', 'CUC', 'UGU', 'GAC', 'CAG', 'GUC', 'UGG', 'UAC', 'UAC', 'GAG', 'UAC', 'UUA', 'CAC', 'CGU', 'AGU', 'ACC', 'CGU', 'UUG', 'GAG', 'UUC', 'UUC', 'UGU', 'UAC', 'GGA', 'UGU', 'GAC', 'UUU', 'AGU', 'CUU', 'CAC', 'CUU', 'GUC', 'UUG', 'UUG', 'AAC', 'GAA', 'AAU', 'CUC', 'AAU', 'AAC', 'AAU', 'AAC', 'AGA', 'CAA', 'UUG', 'ACA', 'CCU', 'GGU', 'CAC', 'UGG', 'AAU', 'UAA', 'CCU', 'UAC', 'AUC', 'UAC', 'AAU', 'AAA', 'UUC', 'UGU', 'GAC', 'UUC', 'UUG', 'GUU', 'GUU', 'GAC', 'AUU', 'GUU', 'CUU', 'AUU', 'GAA', 'CGG', 'UAC', 'AAA', 'CAC', 'UGU', 'GAA', 'CGA', 'GAC', 'UCA', 'UAA', 'GGA', 'AAU', 'GGA', 'CUU', 'AAU', 'UGU', 'CCU', 'UGU', 'UCA', 'CAC', 'UGU', 'UUG', 'ACU', 'ACC', 'UAU', 'GAG', 'UCU', 'UGU', 'GUU', 'CAA', 'CUU', 'GUG', 'UUC', 'AAA', 'CAC', 'GAA', 'GAA', 'CGG', 'UGC', 'UCC', 'GCU', 'CAC', 'UUC', 'UUA', 'AGA', 'UUA', 'AAU', 'GUA', 'AAC', 'UCC', 'AGU', 'CAA', 'ACU', 'CCU', 'UAU', 'UAA', 'CCU', 'CGU', 'UUU', 'CAG', 'UAG', 'UAC', 'AAC', 'AAA', 'CCU', 'UUA', 'UAU', 'CAC', 'UCC', 'UUC', 'UCU', 'CAA', 'UUC', 'CGU', 'AAC', 'CGG', 'UGU', 'CGG', 'UAC', 'ACA', 'GAA', 'UUU', 'UAG', 'UGA', 'ACA', 'GAC', 'CCG', 'GAG', 'ACA', 'AAU', 'CUU', 'GGU', 'CAG', 'CUC', 'UAA', 'CCU', 'CUC', 'UUU', 'AAU', 'AUC', 'UGU', 'UUC', 'UCU', 'UUA', 'UGU', 'AAC', 'CGU', 'UUU', 'CAG', 'GGU', 'UGG', 'GGU', 'UUG', 'ACC', 'GUU', 'UCG', 'UUC', 'UAC', 'UAG', 'ACU', 'UUU', 'CGG', 'UGA', 'AGG', 'AGU', 'CAC', 'CAA', 'AAG', 'UCC', 'CUA', 'CAU', 'AGC', 'ACU', 'CAU', 'CUG', 'UAC', 'CUC', 'UCC', 'CGA', 'AAA', 'AGA', 'CUG']\n",
        "c_transcribed_3 = ['UCU', 'UAC', 'CUC', 'CCA', 'CCA', 'CUU', 'AUU', 'GAG', 'UGA', 'CAA', 'AGU', 'UAG', 'UCU', 'AAG', 'GUU', 'GGU', 'CUU', 'UAG', 'AAA', 'AGU', 'AUA', 'GUU', 'GUU', 'CAC', 'UAA', 'UAU', 'UGG', 'AAU', 'GAG', 'AAA', 'AUA', 'UUC', 'AUA', 'UCG', 'UCA', 'CUC', 'GUG', 'GUA', 'UGG', 'AAC', 'AAG', 'UAU', 'GUU', 'CGA', 'AAA', 'UUU', 'UUG', 'UAU', 'AAA', 'UAC', 'CUU', 'AUU', 'UCA', 'UAA', 'AUU', 'ACC', 'AUA', 'AUC', 'GUU', 'UCG', 'ACA', 'GAA', 'GAC', 'ACA', 'AAC', 'CGU', 'AAA', 'AAU', 'CAC', 'UGA', 'GAC', 'CGA', 'AAG', 'UUG', 'UCA', 'ACU', 'UCU', 'UGU', 'GUC', 'UUG', 'UUC', 'CUG', 'GGA', 'AUC', 'CCA', 'GAG', 'ACU', 'UCC', 'AGU', 'UGU', 'CAU', 'UUC', 'CUC', 'UUU', 'AAC', 'AUC', 'CCU', 'UUG', 'GGC', 'UUU', 'GGU', 'UUU', 'ACA', 'GUA', 'ACG', 'UUA', 'CGG', 'AGU', 'CCC', 'UUA', 'CUA', 'CUC', 'UUA', 'UAU', 'AUU', 'UUA', 'UCC', 'ACA', 'UUU', 'UCU', 'ACU', 'AUG', 'UUU', 'AUU', 'CUG', 'AAU', 'CUU', 'CUA', 'UUU', 'UCG', 'GUU', 'GUU', 'UAC', 'ACU', 'GAU', 'GGU', 'CGU', 'AGU', 'CCU', 'AUC', 'AUA', 'CCC', 'AAC', 'GAC', 'ACC', 'AGA', 'GAC', 'GAA', 'CCG', 'GGG', 'ACC', 'CCA', 'GGA', 'CUA', 'ACU', 'CUC', 'ACU', 'UAU', 'ACA', 'UGA', 'CGU', 'AAG', 'AGA', 'CUG', 'UUA', 'CAG', 'AUA', 'CCU', 'CCU', 'CUU', 'CAU', 'GGU', 'ACC', 'UCU', 'GUG', 'ACC', 'AGG', 'UCU', 'GGU', 'ACU', 'ACG', 'AGU', 'ACU', 'UAC', 'ACC', 'GUA', 'GUA', 'CCC', 'GUU', 'UGG', 'AGU', 'UCU', 'UCU', 'GUU', 'ACG', 'GAU', 'GUG', 'ACU', 'UUA', 'GUC', 'UUC', 'ACC', 'UUG', 'UCU', 'UGU', 'UGA', 'ACG', 'AAA', 'AUC', 'UCA', 'AUA', 'ACA', 'AUA', 'ACA', 'GAC', 'AAU', 'UGA', 'CAC', 'CUG', 'GUC', 'ACU', 'GGA', 'AUU', 'AAC', 'CUU', 'ACA', 'UCU', 'ACA', 'AUA', 'AAU', 'UCU', 'GUG', 'ACU', 'UCU', 'UGG', 'UUG', 'UUG', 'ACA', 'UUG', 'UUC', 'UUA', 'UUG', 'AAC', 'GGU', 'ACA', 'AAC', 'ACU', 'GUG', 'AAC', 'GAG', 'ACU', 'CAU', 'AAG', 'GAA', 'AUG', 'GAC', 'UUA', 'AUU', 'GUC', 'CUU', 'GUU', 'CAC', 'ACU', 'GUU', 'UGA', 'CUA', 'CCU', 'AUG', 'AGU', 'CUU', 'GUG', 'UUC', 'AAC', 'UUG', 'UGU', 'UCA', 'AAC', 'ACG', 'AAG', 'AAC', 'GGU', 'GCU', 'CCG', 'CUC', 'ACU', 'UCU', 'UAA', 'GAU', 'UAA', 'AUG', 'UAA', 'ACU', 'CCA', 'GUC', 'AAA', 'CUC', 'CUU', 'AUU', 'AAC', 'CUC', 'GUU', 'UUC', 'AGU', 'AGU', 'ACA', 'ACA', 'AAC', 'CUU', 'UAU', 'AUC', 'ACU', 'CCU', 'UCU', 'CUC', 'AAU', 'UCC', 'GUA', 'ACC', 'GGU', 'GUC', 'GGU', 'ACA', 'CAG', 'AAU', 'UUU', 'AGU', 'GAA', 'CAG', 'ACC', 'CGG', 'AGA', 'CAA', 'AUC', 'UUG', 'GUC', 'AGC', 'UCU', 'AAC', 'CUC', 'UCU', 'UUA', 'AUA', 'UCU', 'GUU', 'UCU', 'CUU', 'UAU', 'GUA', 'ACC', 'GUU', 'UUC', 'AGG', 'GUU', 'GGG', 'GUU', 'UGA', 'CCG', 'UUU', 'CGU', 'UCU', 'ACU', 'AGA', 'CUU', 'UUC', 'GGU', 'GAA', 'GGA', 'GUC', 'ACC', 'AAA', 'AGU', 'CCC', 'UAC', 'AUA', 'GCA', 'CUC', 'AUC', 'UGU', 'ACC', 'UCU', 'CCC', 'GAA', 'AAA', 'GAC', 'UGG']\n",
        "all_transcribed = [transcribed_1, transcribed_2, transcribed_3, c_transcribed_1, c_transcribed_2, c_transcribed_3]\n",
        "# \n",
        "# \n",
        "# \n",
        "# \n",
        "# \n",
        "def translate_orf(orf):\n",
        "  protein = []\n",
        "  if 'AUG' in orf:\n",
        "    print(\"found start codon\")\n",
        "    pos_start = orf.index('AUG')\n",
        "    for pos in range(pos_start, len(orf)):\n",
        "      codon = orf[pos]\n",
        "      if codon == 'UAA' or codon == 'UAG' or codon == 'UGA':\n",
        "        break   \n",
        "      amino_acid = AA_mapping[translate[codon]] \n",
        "      protein.append(amino_acid)\n",
        "  else:\n",
        "    print(\"do not have start codon, skip\")\n",
        "  return protein\n",
        "\n",
        "def translate_everything(le_list):\n",
        "  for current in le_list:\n",
        "    print(translate_orf(current))\n",
        "\n",
        "translate_everything(all_transcribed)"
      ],
      "metadata": {
        "colab": {
          "base_uri": "https://localhost:8080/"
        },
        "id": "Yq1m-zrWXrqb",
        "outputId": "2e5ffd2d-c1c5-4bc3-a4aa-ad4f6a4c00b7"
      },
      "execution_count": 5,
      "outputs": [
        {
          "output_type": "stream",
          "name": "stdout",
          "text": [
            "found start codon\n",
            "['M', 'S', 'L', 'V', 'H', 'S', 'V', 'C', 'T', 'V', 'Q']\n",
            "found start codon\n",
            "['M', 'S', 'A', 'M']\n",
            "found start codon\n",
            "['M', 'S', 'T', 'T', 'K', 'K', 'S', 'Q', 'N', 'L', 'L']\n",
            "found start codon\n",
            "['M', 'R', 'K', 'Y', 'S', 'Y', 'R', 'H', 'S', 'W', 'Y', 'G', 'T', 'S', 'M', 'F', 'E', 'N', 'F', 'C', 'I', 'N', 'T', 'L', 'F', 'H', 'K', 'L', 'P']\n",
            "found start codon\n",
            "['M', 'E', 'Q', 'V', 'C', 'S', 'K', 'I', 'F', 'V']\n",
            "found start codon\n",
            "['M', 'F', 'I', 'L', 'N', 'L', 'L', 'F', 'S', 'V', 'V', 'Y', 'T', 'D', 'G', 'R', 'S', 'P', 'I', 'I', 'P', 'N', 'D', 'T', 'R', 'D', 'E', 'P', 'G', 'T', 'P', 'G', 'L', 'T', 'L', 'T', 'Y', 'T']\n"
          ]
        }
      ]
    },
    {
      "cell_type": "code",
      "source": [
        "####################################################################################### \n",
        "# (1) define dictionary to translate three-letter mRNA to three-letter amino acid here \n",
        "#######################################################################################\n",
        "translate = { \n",
        "  'UUU':'Phe','UCU':'Ser','UAU':'Tyr','UGU':'Cys',\n",
        "  'UUC':'Phe','UCC':'Ser','UAC':'Tyr','UGC':'Cys',\n",
        "  'UUA':'Leu','UCA':'Ser','UAA':'Stop','UGA':'Stop',\n",
        "  'UUG':'Leu','UCG':'Ser','UAG':'Stop','UGG':'Trp',\n",
        "  'CUU':'Leu','CCU':'Pro','CAU':'His','CGU':'Arg',\n",
        "  'CUC':'Leu','CCC':'Pro','CAC':'His','CGC':'Arg',\n",
        "  'CUA':'Leu','CCA':'Pro','CAA':'Gln','CGA':'Arg',\n",
        "  'CUG':'Leu','CCG':'Pro','CAG':'Gln','CGG':'Arg',\n",
        "  'AUU':'Ile','ACU':'Thr','AAU':'Asn','AGU':'Ser',\n",
        "  'AUC':'Ile','ACC':'Thr','AAC':'Asn','AGC':'Ser',\n",
        "  'AUA':'Ile','ACA':'Thr','AAA':'Lys','AGA':'Arg',\n",
        "  'AUG':'Met','ACG':'Thr','AAG':'Lys','AGG':'Arg',\n",
        "  'GUU':'Val','GCU':'Ala','GAU':'Asp','GGU':'Gly',\n",
        "  'GUC':'Val','GCC':'Ala','GAC':'Asp','GGC':'Gly',\n",
        "  'GUA':'Val','GCA':'Ala','GAA':'Glu','GGA':'Gly',\n",
        "  'GUG':'Val','GCG':'Ala','GAG':'Glu','GGG':'Gly'\n",
        "}\n",
        "\n",
        "#######################################################################################\n",
        "# (2) define dictionary to map three-letter amino acid to one-letter amino acid here\n",
        "#######################################################################################\n",
        "AA_mapping = {\n",
        "    'Ala':'A', 'Arg':'R','Asn':'N',\n",
        "    'Asp':'D', 'Cys':'C','Gln':'Q',\n",
        "    'Glu':'E', 'Gly':'G','His':'H',\n",
        "    'Ile':'I', 'Leu':'L','Lys':'K',\n",
        "    'Met':'M', 'Phe':'F','Pro':'P',\n",
        "    'Ser':'S', 'Thr':'T','Trp':'W',\n",
        "    'Tyr':'Y','Val':'V'\n",
        "}"
      ],
      "metadata": {
        "id": "yysHxSZ7X9fM"
      },
      "execution_count": 4,
      "outputs": []
    }
  ]
}