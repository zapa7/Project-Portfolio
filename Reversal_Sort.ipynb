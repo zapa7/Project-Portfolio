{
  "nbformat": 4,
  "nbformat_minor": 0,
  "metadata": {
    "colab": {
      "provenance": [],
      "authorship_tag": "ABX9TyM7OwX0uLIAxh+DutL42BEH"
    },
    "kernelspec": {
      "name": "python3",
      "display_name": "Python 3"
    },
    "language_info": {
      "name": "python"
    }
  },
  "cells": [
    {
      "cell_type": "code",
      "source": [
        "def perform_reversal(data, a, b):\n",
        "    # get the numbers before position a, assign to variable first\n",
        "  first = data[:a]\n",
        "    #get numbers between position a and b, assgin to variable middle\n",
        "  middle = data[a:b+1]\n",
        "    # get the numbers after position b, assign to variable third\n",
        "  third = data[b+1:]\n",
        "    # apply slice reversal on middle\n",
        "  new_middle = middle[::-1]\n",
        "    # merge first + middle + third\n",
        "  new_list = first + new_middle + third\n",
        "    #return new list\n",
        "  return new_list"
      ],
      "metadata": {
        "id": "aI8i_9h3gKVr"
      },
      "execution_count": 7,
      "outputs": []
    },
    {
      "cell_type": "code",
      "source": [
        "def count_breakpoints(data):\n",
        "  bp_count = 0\n",
        "  min_num = min(data)-1\n",
        "  max_num = max(data)+1\n",
        "  data_new = [min_num] + data + [max_num] # [3,1,2,5,4] -> [0,3,1,2,5,4,6]\n",
        "  for i in range(0,len(data_new)-1):\n",
        "    if data_new[i] == (data_new[i+1]+1):\n",
        "      continue\n",
        "    elif data_new[i] == (data_new[i+1]-1):\n",
        "      continue\n",
        "    else:\n",
        "      bp_count += 1\n",
        "  return bp_count"
      ],
      "metadata": {
        "id": "ORcHbFztgbYL"
      },
      "execution_count": 10,
      "outputs": []
    },
    {
      "cell_type": "code",
      "execution_count": 17,
      "metadata": {
        "id": "5cWwtiOpfasD"
      },
      "outputs": [],
      "source": [
        "### this function was given by professor\n",
        "\n",
        "def display(seq, a=None, b=None):\n",
        "    \"\"\"Display given sequence with indices, highlight range [a,b] if specified.\"\"\"\n",
        "    n = len(seq)\n",
        "\n",
        "    if a is None: \n",
        "        a = 0\n",
        "    if b is None: \n",
        "        b = a-1\n",
        "    print(' k: ' + ' '.join('%2d'%val for val in range(n)))\n",
        "    print(' ' + '---'*a + '='*(3*(1+b-a)-1) + '---'*(n-b-1))\n",
        "    print('data[k]: ' + ' '.join('%2d'%val for val in seq))\n",
        "    bp = count_breakpoints(seq)\n",
        "    print('There are %s breakpoints in this pattern' % ('?' if bp is None else str(bp)))\n",
        "    print('')"
      ]
    },
    {
      "cell_type": "code",
      "source": [
        "def SimpleReversalsSort(data):\n",
        "  reversals = 0\n",
        "  final_ordered_sequence=data\n",
        "  for i in range(0,len(final_ordered_sequence)-1):\n",
        "    if i != final_ordered_sequence[i]:\n",
        "      index_of_end = final_ordered_sequence.index(i)\n",
        "      final_ordered_sequence = perform_reversal(final_ordered_sequence, i, index_of_end)\n",
        "      reversals+=1\n",
        "      display(final_ordered_sequence)\n",
        "      \n",
        "    \n",
        "  return reversals, final_ordered_sequence"
      ],
      "metadata": {
        "id": "UT4FwOX7fwg4"
      },
      "execution_count": 15,
      "outputs": []
    },
    {
      "cell_type": "code",
      "source": [
        "SimpleReversalsSort([0, 10, 13, 16, 14, 2, 15, 1, 17, 18, 8, 7, 6, 5, 4, 3, 12, 9, 11, 19])"
      ],
      "metadata": {
        "colab": {
          "base_uri": "https://localhost:8080/"
        },
        "id": "fRpJdGYUf-6M",
        "outputId": "72c77305-cf51-4a6a-e8ae-ea1da550e58f"
      },
      "execution_count": 16,
      "outputs": [
        {
          "output_type": "stream",
          "name": "stdout",
          "text": [
            " k:  0  1  2  3  4  5  6  7  8  9 10 11 12 13 14 15 16 17 18 19\n",
            " ------------------------------------------------------------\n",
            "data[k]:  0  1 15  2 14 16 13 10 17 18  8  7  6  5  4  3 12  9 11 19\n",
            "There are 12 breakpoints in this pattern\n",
            "\n",
            " k:  0  1  2  3  4  5  6  7  8  9 10 11 12 13 14 15 16 17 18 19\n",
            " ------------------------------------------------------------\n",
            "data[k]:  0  1  2 15 14 16 13 10 17 18  8  7  6  5  4  3 12  9 11 19\n",
            "There are 10 breakpoints in this pattern\n",
            "\n",
            " k:  0  1  2  3  4  5  6  7  8  9 10 11 12 13 14 15 16 17 18 19\n",
            " ------------------------------------------------------------\n",
            "data[k]:  0  1  2  3  4  5  6  7  8 18 17 10 13 16 14 15 12  9 11 19\n",
            "There are 9 breakpoints in this pattern\n",
            "\n",
            " k:  0  1  2  3  4  5  6  7  8  9 10 11 12 13 14 15 16 17 18 19\n",
            " ------------------------------------------------------------\n",
            "data[k]:  0  1  2  3  4  5  6  7  8  9 12 15 14 16 13 10 17 18 11 19\n",
            "There are 8 breakpoints in this pattern\n",
            "\n",
            " k:  0  1  2  3  4  5  6  7  8  9 10 11 12 13 14 15 16 17 18 19\n",
            " ------------------------------------------------------------\n",
            "data[k]:  0  1  2  3  4  5  6  7  8  9 10 13 16 14 15 12 17 18 11 19\n",
            "There are 7 breakpoints in this pattern\n",
            "\n",
            " k:  0  1  2  3  4  5  6  7  8  9 10 11 12 13 14 15 16 17 18 19\n",
            " ------------------------------------------------------------\n",
            "data[k]:  0  1  2  3  4  5  6  7  8  9 10 11 18 17 12 15 14 16 13 19\n",
            "There are 6 breakpoints in this pattern\n",
            "\n",
            " k:  0  1  2  3  4  5  6  7  8  9 10 11 12 13 14 15 16 17 18 19\n",
            " ------------------------------------------------------------\n",
            "data[k]:  0  1  2  3  4  5  6  7  8  9 10 11 12 17 18 15 14 16 13 19\n",
            "There are 5 breakpoints in this pattern\n",
            "\n",
            " k:  0  1  2  3  4  5  6  7  8  9 10 11 12 13 14 15 16 17 18 19\n",
            " ------------------------------------------------------------\n",
            "data[k]:  0  1  2  3  4  5  6  7  8  9 10 11 12 13 16 14 15 18 17 19\n",
            "There are 4 breakpoints in this pattern\n",
            "\n",
            " k:  0  1  2  3  4  5  6  7  8  9 10 11 12 13 14 15 16 17 18 19\n",
            " ------------------------------------------------------------\n",
            "data[k]:  0  1  2  3  4  5  6  7  8  9 10 11 12 13 14 16 15 18 17 19\n",
            "There are 3 breakpoints in this pattern\n",
            "\n",
            " k:  0  1  2  3  4  5  6  7  8  9 10 11 12 13 14 15 16 17 18 19\n",
            " ------------------------------------------------------------\n",
            "data[k]:  0  1  2  3  4  5  6  7  8  9 10 11 12 13 14 15 16 18 17 19\n",
            "There are 2 breakpoints in this pattern\n",
            "\n",
            " k:  0  1  2  3  4  5  6  7  8  9 10 11 12 13 14 15 16 17 18 19\n",
            " ------------------------------------------------------------\n",
            "data[k]:  0  1  2  3  4  5  6  7  8  9 10 11 12 13 14 15 16 17 18 19\n",
            "There are 0 breakpoints in this pattern\n",
            "\n"
          ]
        },
        {
          "output_type": "execute_result",
          "data": {
            "text/plain": [
              "(11, [0, 1, 2, 3, 4, 5, 6, 7, 8, 9, 10, 11, 12, 13, 14, 15, 16, 17, 18, 19])"
            ]
          },
          "metadata": {},
          "execution_count": 16
        }
      ]
    }
  ]
}