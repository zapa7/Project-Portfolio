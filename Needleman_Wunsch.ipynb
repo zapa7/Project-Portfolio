{
  "nbformat": 4,
  "nbformat_minor": 0,
  "metadata": {
    "colab": {
      "provenance": [],
      "authorship_tag": "ABX9TyN7U1ey+Ne0foGycJ+gyXIQ"
    },
    "kernelspec": {
      "name": "python3",
      "display_name": "Python 3"
    },
    "language_info": {
      "name": "python"
    }
  },
  "cells": [
    {
      "cell_type": "code",
      "execution_count": 2,
      "metadata": {
        "id": "d1cQy_clZNRM"
      },
      "outputs": [],
      "source": [
        "### Implementation of the Needleman-Wunsch Global Pairwise Alignment algorithm ###\n",
        "\n",
        "# This function creates a table with x-axis being the length of one sequence and y-axis being the length of another sequence. Then, it fills out the table using the Needleman-Wunsch Global Pairwise Alignment algorithm\n",
        "\n",
        "\n",
        "def buildTable(X, Y, match=1, mismatch=-1, gap=-1):\n",
        "    print(\"Sequence 1:\", X)\n",
        "    print(\"Sequence 2:\", Y)\n",
        "    opt = []\n",
        "    for i in range(len(X)+1):\n",
        "      row = []\n",
        "      for j in range(len(Y)+1):\n",
        "        row.append(0)\n",
        "      opt.append(row)\n",
        "      \n",
        "    ## initialize first column\n",
        "    for rowid in range(0, len(opt)):\n",
        "        opt[rowid][0] = -1* rowid\n",
        "\n",
        "    ## initialize first row\n",
        "    for colid in range(0, len(opt[0])):\n",
        "        opt[0][colid] = -1* colid\n",
        "\n",
        "    ## print the intital table\n",
        "    print('The initial alignment table is:')\n",
        "    for each in opt:\n",
        "      print(each)\n",
        "\n",
        "    ## Creating the final table\n",
        "    for rowid in range(1, len(opt)):\n",
        "      for colid in range(1, len(opt[0])):\n",
        "        score1 = opt[rowid][colid-1] + gap\n",
        "        score2 = opt[rowid-1][colid] + gap\n",
        "        score3 = opt[rowid-1][colid-1]\n",
        "        if X[rowid-1] == Y[colid-1]:\n",
        "          score3 += match\n",
        "        else:\n",
        "          score3 += mismatch\n",
        "        best_score = max(score1, score2, score3)\n",
        "        opt[rowid][colid] = best_score\n",
        "\n",
        "    ## printing the final table    \n",
        "    print('The final alignment table is:')\n",
        "    for each in opt:\n",
        "      print(each)\n",
        "\n",
        "    return "
      ]
    },
    {
      "cell_type": "code",
      "source": [
        "buildTable('TTGCT', 'CTTCCT',match=1, mismatch=-1, gap=-1)"
      ],
      "metadata": {
        "colab": {
          "base_uri": "https://localhost:8080/"
        },
        "id": "0IWNlxZTZs8T",
        "outputId": "778fb796-a15d-4a2b-f0d2-7f8d83b811ef"
      },
      "execution_count": 3,
      "outputs": [
        {
          "output_type": "stream",
          "name": "stdout",
          "text": [
            "Sequence 1: TTGCT\n",
            "Sequence 2: CTTCCT\n",
            "The initial alignment table is:\n",
            "[0, -1, -2, -3, -4, -5, -6]\n",
            "[-1, 0, 0, 0, 0, 0, 0]\n",
            "[-2, 0, 0, 0, 0, 0, 0]\n",
            "[-3, 0, 0, 0, 0, 0, 0]\n",
            "[-4, 0, 0, 0, 0, 0, 0]\n",
            "[-5, 0, 0, 0, 0, 0, 0]\n",
            "The final alignment table is:\n",
            "[0, -1, -2, -3, -4, -5, -6]\n",
            "[-1, -1, 0, -1, -2, -3, -4]\n",
            "[-2, -2, 0, 1, 0, -1, -2]\n",
            "[-3, -3, -1, 0, 0, -1, -2]\n",
            "[-4, -2, -2, -1, 1, 1, 0]\n",
            "[-5, -3, -1, -1, 0, 0, 2]\n"
          ]
        }
      ]
    }
  ]
}